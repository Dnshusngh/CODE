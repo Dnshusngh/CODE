{
 "cells": [
  {
   "cell_type": "code",
   "execution_count": 1,
   "id": "a63ddb9a",
   "metadata": {},
   "outputs": [
    {
     "name": "stdout",
     "output_type": "stream",
     "text": [
      "0\n"
     ]
    }
   ],
   "source": [
    "def foo(x):\n",
    "    try:\n",
    "        return 10 / x\n",
    "    except ZeroDivisionError:\n",
    "        return \"Error\"\n",
    "    finally:\n",
    "        return 0\n",
    "result= foo(0)\n",
    "print (result)"
   ]
  },
  {
   "cell_type": "code",
   "execution_count": 3,
   "id": "154b6682",
   "metadata": {},
   "outputs": [
    {
     "name": "stdout",
     "output_type": "stream",
     "text": [
      "[2, 4, 5, 0]\n"
     ]
    }
   ],
   "source": [
    "def func(x, y=None):\n",
    "    if y is None:\n",
    "        y = [1]\n",
    "    y.extend(x)\n",
    "    return y\n",
    "\n",
    "print(func([0], [2, 4, 5]))\n"
   ]
  },
  {
   "cell_type": "code",
   "execution_count": 4,
   "id": "a2b383a2",
   "metadata": {},
   "outputs": [
    {
     "name": "stdout",
     "output_type": "stream",
     "text": [
      "[2, 7, 5, 0]\n"
     ]
    }
   ],
   "source": [
    "def func(x, y=None):\n",
    "    if y is None:\n",
    "        y = [1]\n",
    "    y.extend(x)\n",
    "    return y\n",
    "print(func([0], [2, 7, 5]))"
   ]
  },
  {
   "cell_type": "code",
   "execution_count": 7,
   "id": "70fee2ce",
   "metadata": {},
   "outputs": [
    {
     "name": "stdout",
     "output_type": "stream",
     "text": [
      "Python\n"
     ]
    }
   ],
   "source": [
    "def func(): \n",
    "    d = {1: \"i\", 2.0: \"love\", 2: \"Python\"} \n",
    "    return d[2.0]\n",
    "print(func())"
   ]
  },
  {
   "cell_type": "code",
   "execution_count": 8,
   "id": "18041f0c",
   "metadata": {},
   "outputs": [
    {
     "name": "stdout",
     "output_type": "stream",
     "text": [
      "Result1: 20\n",
      "Result2: 30\n",
      "Result3: False\n",
      "Result4: False\n",
      "Result5 (Binary Operations): 0b1110\n",
      "Result6 (Membership/Identity): True\n",
      "Result7 (Membership/Identity): True\n"
     ]
    },
    {
     "name": "stderr",
     "output_type": "stream",
     "text": [
      "<>:22: SyntaxWarning: \"is not\" with a literal. Did you mean \"!=\"?\n",
      "<>:22: SyntaxWarning: \"is not\" with a literal. Did you mean \"!=\"?\n",
      "C:\\Temp2\\ipykernel_13712\\30020201.py:22: SyntaxWarning: \"is not\" with a literal. Did you mean \"!=\"?\n",
      "  result7 = 'apple' is not None\n"
     ]
    }
   ],
   "source": [
    "# Example code illustrating operator precedence\n",
    "a = 10\n",
    "b = 5\n",
    "c = 2\n",
    "\n",
    "# Arithmetic operations\n",
    "result1 = a + b * c  # Multiplication has higher precedence\n",
    "result2 = (a + b) * c  # Parentheses can change the order of evaluation\n",
    "\n",
    "# Comparison operations\n",
    "result3 = a > b and b < c  # Logical 'and' with comparison\n",
    "result4 = (a > b) and (b < c)  # Parentheses for clarity\n",
    "\n",
    "# Bitwise operations\n",
    "x = 0b1100  # Binary 1100\n",
    "y = 0b1010  # Binary 1010\n",
    "result5 = x & y | (x ^ y)\n",
    "\n",
    "# Membership and identity operators\n",
    "fruits = ['apple', 'banana', 'cherry']\n",
    "result6 = 'apple' in fruits or 'grape' not in fruits\n",
    "result7 = 'apple' is not None\n",
    "\n",
    "# Display results\n",
    "print(\"Result1:\", result1)\n",
    "print(\"Result2:\", result2)\n",
    "print(\"Result3:\", result3)\n",
    "print(\"Result4:\", result4)\n",
    "print(\"Result5 (Binary Operations):\", bin(result5))\n",
    "print(\"Result6 (Membership/Identity):\", result6)\n",
    "print(\"Result7 (Membership/Identity):\", result7)\n"
   ]
  },
  {
   "cell_type": "code",
   "execution_count": 9,
   "id": "d144dbd3",
   "metadata": {},
   "outputs": [
    {
     "name": "stdout",
     "output_type": "stream",
     "text": [
      "10\n"
     ]
    }
   ],
   "source": [
    "my_list = [\"Hello\", 1, 3, 4, 7, \"World\"]\n",
    "\n",
    "num1 = my_list.pop(2)\n",
    "num2 = my_list.pop(3)\n",
    "\n",
    "print(sum((num1,num2)))"
   ]
  },
  {
   "cell_type": "code",
   "execution_count": 12,
   "id": "adcd6486",
   "metadata": {},
   "outputs": [
    {
     "name": "stdout",
     "output_type": "stream",
     "text": [
      "Dipanshu\n",
      "26\n",
      "Ranchi\n"
     ]
    }
   ],
   "source": [
    "from collections import namedtuple\n",
    "\n",
    "# Define a named tuple type\n",
    "Person = namedtuple('Person', ['name', 'age', 'city'])\n",
    "\n",
    "# Create instances of the named tuple\n",
    "person1 = Person(name='Dipanshu', age=27, city='Ranchi')\n",
    "person2 = Person(name='Chotu', age=26, city='Koderma')\n",
    "\n",
    "# Access fields by name\n",
    "print(person1.name)  # Output: Dipanshu\n",
    "print(person2.age)   # Output: 26\n",
    "\n",
    "# Access fields by index\n",
    "print(person1[2])  # Output: Ranchi\n",
    "\n",
    "# Named tuples are immutable\n",
    "# person1.name = 'Dipanshu'  # This will raise an error\n"
   ]
  },
  {
   "cell_type": "code",
   "execution_count": 13,
   "id": "53512444",
   "metadata": {},
   "outputs": [],
   "source": [
    "import time\n",
    "\n",
    "def countdown_timer(seconds):\n",
    "    for i in range(seconds, 0, -1):\n",
    "        print(f\"Time remaining: {i} seconds\", end='\\r')\n",
    "        time.sleep(1)\n",
    "\n",
    "    print(\"Time's up!\")\n",
    "\n",
    "def main():\n",
    "    try:\n",
    "        countdown_seconds = int(input(\"Enter the countdown time in seconds: \"))\n",
    "        if countdown_seconds <= 0:\n",
    "            print(\"Please enter a positive countdown time.\")\n",
    "        else:\n",
    "            countdown_timer(countdown_seconds)\n",
    "    except ValueError:\n",
    "        print(\"Invalid input. Please enter a positive integer.\")\n",
    "\n",
    "if __name__ == \"__main\":\n",
    "    main()\n"
   ]
  },
  {
   "cell_type": "code",
   "execution_count": 14,
   "id": "f4c7ffa3",
   "metadata": {},
   "outputs": [
    {
     "name": "stdout",
     "output_type": "stream",
     "text": [
      "Time remaining: 10 seconds\n",
      "Time remaining: 9 seconds\n",
      "Time remaining: 8 seconds\n",
      "Time remaining: 7 seconds\n",
      "Time remaining: 6 seconds\n",
      "Time remaining: 5 seconds\n",
      "Time remaining: 4 seconds\n",
      "Time remaining: 3 seconds\n",
      "Time remaining: 2 seconds\n",
      "Time remaining: 1 seconds\n",
      "Time's up!\n"
     ]
    }
   ],
   "source": [
    "import time\n",
    "\n",
    "def countdown_timer(seconds):\n",
    "    while seconds > 0:\n",
    "        print(f\"Time remaining: {seconds} seconds\")\n",
    "        time.sleep(1)  # Sleep for 1 second\n",
    "        seconds -= 1\n",
    "    print(\"Time's up!\")\n",
    "\n",
    "# Set the countdown time (e.g., 10 seconds)\n",
    "countdown_seconds = 10\n",
    "\n",
    "# Start the countdown timer\n",
    "countdown_timer(countdown_seconds)\n"
   ]
  },
  {
   "cell_type": "code",
   "execution_count": 19,
   "id": "d2964acf",
   "metadata": {},
   "outputs": [
    {
     "name": "stdout",
     "output_type": "stream",
     "text": [
      "The family member is: Mom\n"
     ]
    }
   ],
   "source": [
    "def my_family(age):\n",
    "    family = {\n",
    "        'Dad': range(40, 100),\n",
    "        'Mom': range(50),\n",
    "        'Child': range(0, 18)\n",
    "    }\n",
    "\n",
    "    for member, age_range in family.items():\n",
    "        if age in age_range:\n",
    "            return member\n",
    "\n",
    "    return \"Unknown\"\n",
    "\n",
    "# Example usage\n",
    "age = 25\n",
    "result = my_family(age)\n",
    "print(f\"The family member is: {result}\")\n"
   ]
  },
  {
   "cell_type": "code",
   "execution_count": 20,
   "id": "daaa5abe",
   "metadata": {},
   "outputs": [
    {
     "name": "stdout",
     "output_type": "stream",
     "text": [
      "['I', 'enjoy', 'Python']\n"
     ]
    }
   ],
   "source": [
    "def modify_str():\n",
    "    str1 = \"I love Python\"\n",
    "    str2 = str1.replace(\"love\", \"enjoy\").split()\n",
    "    return str2\n",
    "\n",
    "result = modify_str()\n",
    "print(result)\n"
   ]
  },
  {
   "cell_type": "code",
   "execution_count": 25,
   "id": "ce899f3b",
   "metadata": {},
   "outputs": [
    {
     "name": "stdout",
     "output_type": "stream",
     "text": [
      "Password 1: ofj|zVLit?ec\n",
      "Password 2: @PTvXSi!hfq\"\n",
      "Password 3: 8<k43FZ2]JU;\n",
      "Password 4: )<]m}xU-~,>\"\n",
      "Password 5: 9JI5z!sGn2}L\n"
     ]
    }
   ],
   "source": [
    "import random\n",
    "import string\n",
    "\n",
    "def password_generator(no_of_passwords, length):\n",
    "    lower = string.ascii_lowercase\n",
    "    upper = string.ascii_uppercase\n",
    "    digits = [str(i) for i in range(10)]\n",
    "    numbers = ''.join(digits)\n",
    "    symbols = string.punctuation\n",
    "    i = 0\n",
    "    \n",
    "    while i < no_of_passwords:\n",
    "        i += 1\n",
    "        create = lower + upper + numbers + symbols\n",
    "        password = ''.join(random.sample(create, length))\n",
    "        print(f\"Password {i}: {password}\")\n",
    "\n",
    "# Example usage\n",
    "password_generator(5, 12)\n"
   ]
  },
  {
   "cell_type": "code",
   "execution_count": 27,
   "id": "d30e8753",
   "metadata": {},
   "outputs": [
    {
     "name": "stdout",
     "output_type": "stream",
     "text": [
      "[1, 4, 9, 16, 25]\n"
     ]
    }
   ],
   "source": [
    "# Define a function that you want to apply to each item\n",
    "def square(x):\n",
    "    return x ** 2\n",
    "\n",
    "# Create a list of numbers\n",
    "numbers = [1, 2, 3, 4, 5]\n",
    "\n",
    "# Use the map() function to apply the function to each item in the list\n",
    "squared_numbers = map(square, numbers)\n",
    "\n",
    "# Convert the result to a list (if needed)\n",
    "squared_numbers_list = list(squared_numbers)\n",
    "\n",
    "# Print the squared numbers\n",
    "print(squared_numbers_list)\n"
   ]
  },
  {
   "cell_type": "code",
   "execution_count": 28,
   "id": "505708b7",
   "metadata": {},
   "outputs": [
    {
     "name": "stdout",
     "output_type": "stream",
     "text": [
      "[2, 4, 6, 8, 10]\n"
     ]
    }
   ],
   "source": [
    "# Define a filtering function\n",
    "def is_even(x):\n",
    "    return x % 2 == 0\n",
    "\n",
    "# Create a list of numbers\n",
    "numbers = [1, 2, 3, 4, 5, 6, 7, 8, 9, 10]\n",
    "\n",
    "# Use the filter() function to filter even numbers\n",
    "filtered_numbers = filter(is_even, numbers)\n",
    "\n",
    "# Convert the result to a list (if needed)\n",
    "even_numbers_list = list(filtered_numbers)\n",
    "\n",
    "# Print the even numbers\n",
    "print(even_numbers_list)\n"
   ]
  },
  {
   "cell_type": "code",
   "execution_count": 29,
   "id": "8faf53a6",
   "metadata": {},
   "outputs": [
    {
     "name": "stdout",
     "output_type": "stream",
     "text": [
      "This is red text\n",
      "This has a green background\n",
      "This is bright blue text\n",
      "\n"
     ]
    }
   ],
   "source": [
    "from colorama import Fore, Back, Style, init\n",
    "\n",
    "init()  # Initialize colorama\n",
    "\n",
    "print(Fore.RED + 'This is red text')\n",
    "print(Back.GREEN + 'This has a green background')\n",
    "print(Style.BRIGHT + Fore.BLUE + 'This is bright blue text')\n",
    "print(Style.RESET_ALL)  # Reset colors and styles\n"
   ]
  },
  {
   "cell_type": "code",
   "execution_count": null,
   "id": "8b9643bd",
   "metadata": {},
   "outputs": [],
   "source": [
    "from colorama import Fore, Back, Style, init\n",
    "\n",
    "init()  # Initialize colorama\n",
    "\n",
    "print(Fore.RED + 'This is red text')\n",
    "print(Back.GREEN + 'This has a green background')\n",
    "print(Style.BRIGHT + Fore.BLUE + 'This is bright blue text')\n",
    "print(Style.RESET_ALL)  # Reset colors and styles\n"
   ]
  },
  {
   "cell_type": "code",
   "execution_count": 30,
   "id": "a82f82fb",
   "metadata": {},
   "outputs": [
    {
     "name": "stdout",
     "output_type": "stream",
     "text": [
      "This is red text\n",
      "This is green text\n",
      "This is bold text\n"
     ]
    }
   ],
   "source": [
    "# ANSI escape codes for colors\n",
    "RED = '\\033[91m'\n",
    "GREEN = '\\033[92m'\n",
    "BOLD = '\\033[1m'\n",
    "END = '\\033[0m'\n",
    "\n",
    "print(RED + 'This is red text' + END)\n",
    "print(GREEN + 'This is green text' + END)\n",
    "print(BOLD + 'This is bold text' + END)\n"
   ]
  },
  {
   "cell_type": "code",
   "execution_count": 33,
   "id": "022223dd",
   "metadata": {},
   "outputs": [
    {
     "name": "stdout",
     "output_type": "stream",
     "text": [
      "hello world\n",
      "hello world\n",
      "hello world\n",
      "hello world\n",
      "hello world\n"
     ]
    }
   ],
   "source": [
    "from colorama import Fore, init\n",
    "\n",
    "# Initialize colorama to work on Windows\n",
    "init()\n",
    "\n",
    "print(Fore.YELLOW + \"hello world\")\n",
    "print(Fore.RED + \"hello world\")\n",
    "print(Fore.BLUE + \"hello world\")\n",
    "print(Fore.CYAN + \"hello world\")\n",
    "print(Fore.GREEN + \"hello world\")\n"
   ]
  },
  {
   "cell_type": "code",
   "execution_count": 34,
   "id": "6d81e025",
   "metadata": {},
   "outputs": [
    {
     "data": {
      "image/png": "[encoded data removed]",
      "text/plain": [
       "<Figure size 640x480 with 1 Axes>"
      ]
     },
     "metadata": {},
     "output_type": "display_data"
    }
   ],
   "source": [
    "import matplotlib.pyplot as plt\n",
    "\n",
    "# Sample data\n",
    "categories = ['Category A', 'Category B', 'Category C', 'Category D']\n",
    "values = [10, 15, 8, 12]\n",
    "\n",
    "# Create a bar graph\n",
    "plt.bar(categories, values)\n",
    "\n",
    "# Add labels and title\n",
    "plt.xlabel('Categories')\n",
    "plt.ylabel('Values')\n",
    "plt.title('Bar Graph Example')\n",
    "\n",
    "# Show the graph\n",
    "plt.show()\n"
   ]
  },
  {
   "cell_type": "code",
   "execution_count": 35,
   "id": "e671f069",
   "metadata": {},
   "outputs": [
    {
     "data": {
      "image/png": "[encoded data removed]",
      "text/plain": [
       "<Figure size 640x480 with 1 Axes>"
      ]
     },
     "metadata": {},
     "output_type": "display_data"
    }
   ],
   "source": [
    "import numpy as np\n",
    "import matplotlib.pyplot as plt\n",
    "\n",
    "data = [[12, 25, 10, 20, 13], [20, 23, 21, 17, 25], [25, 22, 17, 19, 15]]\n",
    "X = np.arange(5)\n",
    "fig = plt.figure()\n",
    "ax = fig.add_axes([0, 0, 1, 1])\n",
    "\n",
    "# Width of each bar group\n",
    "width = 0.25\n",
    "\n",
    "# Create the grouped bar chart\n",
    "ax.bar(X - width, data[0], width, color='r', label='Category 1')\n",
    "ax.bar(X, data[1], width, color='g', label='Category 2')\n",
    "ax.bar(X + width, data[2], width, color='b', label='Category 3')\n",
    "\n",
    "# Set X-axis labels\n",
    "ax.set_xticks(X)\n",
    "ax.set_xticklabels(['A', 'B', 'C', 'D', 'E'])\n",
    "\n",
    "# Add a legend\n",
    "ax.legend()\n",
    "\n",
    "# Add labels and title\n",
    "plt.xlabel('Categories')\n",
    "plt.ylabel('Values')\n",
    "plt.title('Grouped Bar Chart Example')\n",
    "\n",
    "# Show the chart\n",
    "plt.show()\n"
   ]
  },
  {
   "cell_type": "code",
   "execution_count": 37,
   "id": "b136807c",
   "metadata": {},
   "outputs": [
    {
     "name": "stdout",
     "output_type": "stream",
     "text": [
      "['Dipanshu', 'Aman', 'Vishal']\n"
     ]
    }
   ],
   "source": [
    "def func(arr: list):\n",
    "    gen = (name for name in arr if len(name) >= 3)  # Use 'name' for filtering, not 'arr'\n",
    "    return list(gen)\n",
    "\n",
    "arr = [\"Dipanshu\", \"Aman\", \"Vishal\"]\n",
    "print(func(arr))\n"
   ]
  },
  {
   "cell_type": "code",
   "execution_count": 45,
   "id": "17ff8538",
   "metadata": {},
   "outputs": [
    {
     "ename": "ModuleNotFoundError",
     "evalue": "No module named 'pyfiglet'",
     "output_type": "error",
     "traceback": [
      "\u001b[1;31m---------------------------------------------------------------------------\u001b[0m",
      "\u001b[1;31mModuleNotFoundError\u001b[0m                       Traceback (most recent call last)",
      "Cell \u001b[1;32mIn[45], line 1\u001b[0m\n\u001b[1;32m----> 1\u001b[0m \u001b[38;5;28;01mimport\u001b[39;00m \u001b[38;5;21;01mpyfiglet\u001b[39;00m\n\u001b[0;32m      3\u001b[0m text \u001b[38;5;241m=\u001b[39m pyfiglet\u001b[38;5;241m.\u001b[39mfiglet_format(\u001b[38;5;124m\"\u001b[39m\u001b[38;5;124mLove Python\u001b[39m\u001b[38;5;124m\"\u001b[39m, font\u001b[38;5;241m=\u001b[39m\u001b[38;5;124m\"\u001b[39m\u001b[38;5;124mpuffy\u001b[39m\u001b[38;5;124m\"\u001b[39m)\n\u001b[0;32m      4\u001b[0m \u001b[38;5;28mprint\u001b[39m(text)\n",
      "\u001b[1;31mModuleNotFoundError\u001b[0m: No module named 'pyfiglet'"
     ]
    }
   ],
   "source": [
    "import pyfiglet\n",
    "\n",
    "text = pyfiglet.figlet_format(\"Love Python\", font=\"puffy\")\n",
    "print(text)\n"
   ]
  },
  {
   "cell_type": "code",
   "execution_count": 43,
   "id": "91da0094",
   "metadata": {},
   "outputs": [
    {
     "ename": "ModuleNotFoundError",
     "evalue": "No module named 'pyfiglet'",
     "output_type": "error",
     "traceback": [
      "\u001b[1;31m---------------------------------------------------------------------------\u001b[0m",
      "\u001b[1;31mModuleNotFoundError\u001b[0m                       Traceback (most recent call last)",
      "Cell \u001b[1;32mIn[43], line 1\u001b[0m\n\u001b[1;32m----> 1\u001b[0m \u001b[38;5;28;01mimport\u001b[39;00m \u001b[38;5;21;01mpyfiglet\u001b[39;00m\n\u001b[0;32m      3\u001b[0m text \u001b[38;5;241m=\u001b[39m pyfiglet\u001b[38;5;241m.\u001b[39mfiglet_format(\u001b[38;5;124m\"\u001b[39m\u001b[38;5;124mLove Python\u001b[39m\u001b[38;5;124m\"\u001b[39m, font\u001b[38;5;241m=\u001b[39m\u001b[38;5;124m\"\u001b[39m\u001b[38;5;124mpuffy\u001b[39m\u001b[38;5;124m\"\u001b[39m)\n\u001b[0;32m      4\u001b[0m \u001b[38;5;28mprint\u001b[39m(text)\n",
      "\u001b[1;31mModuleNotFoundError\u001b[0m: No module named 'pyfiglet'"
     ]
    }
   ],
   "source": [
    "import pyfiglet\n",
    "\n",
    "text = pyfiglet.figlet_format(\"Love Python\", font=\"puffy\")\n",
    "print(text)"
   ]
  },
  {
   "cell_type": "code",
   "execution_count": 42,
   "id": "4ca82932",
   "metadata": {},
   "outputs": [
    {
     "ename": "ModuleNotFoundError",
     "evalue": "No module named 'pyfiglet'",
     "output_type": "error",
     "traceback": [
      "\u001b[1;31m---------------------------------------------------------------------------\u001b[0m",
      "\u001b[1;31mModuleNotFoundError\u001b[0m                       Traceback (most recent call last)",
      "Cell \u001b[1;32mIn[42], line 1\u001b[0m\n\u001b[1;32m----> 1\u001b[0m \u001b[38;5;28;01mimport\u001b[39;00m \u001b[38;5;21;01mpyfiglet\u001b[39;00m\n\u001b[0;32m      3\u001b[0m \u001b[38;5;28mprint\u001b[39m(pyfiglet\u001b[38;5;241m.\u001b[39mFigletFont\u001b[38;5;241m.\u001b[39mgetFonts())\n",
      "\u001b[1;31mModuleNotFoundError\u001b[0m: No module named 'pyfiglet'"
     ]
    }
   ],
   "source": [
    "import pyfiglet\n",
    "\n",
    "print(pyfiglet.FigletFont.getFonts())\n"
   ]
  },
  {
   "cell_type": "code",
   "execution_count": null,
   "id": "e0f8adec",
   "metadata": {},
   "outputs": [],
   "source": []
  }
 ],
 "metadata": {
  "kernelspec": {
   "display_name": "Python 3 (ipykernel)",
   "language": "python",
   "name": "python3"
  },
  "language_info": {
   "codemirror_mode": {
    "name": "ipython",
    "version": 3
   },
   "file_extension": ".py",
   "mimetype": "text/x-python",
   "name": "python",
   "nbconvert_exporter": "python",
   "pygments_lexer": "ipython3",
   "version": "3.11.4"
  }
 },
 "nbformat": 4,
 "nbformat_minor": 5
}
