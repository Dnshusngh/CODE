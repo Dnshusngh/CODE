{
 "cells": [
  {
   "cell_type": "code",
   "execution_count": 5,
   "id": "b0b6b983",
   "metadata": {},
   "outputs": [
    {
     "name": "stdout",
     "output_type": "stream",
     "text": [
      "Enter a number: 25\n",
      "The square root of 25.000 is 5.000\n"
     ]
    }
   ],
   "source": [
    "num = float(input(\"Enter a number: \"))\n",
    "num_sqrt = num ** 0.5\n",
    "print('The square root of %0.3f is %0.3f' % (num, num_sqrt))\n"
   ]
  },
  {
   "cell_type": "code",
   "execution_count": 6,
   "id": "8ba1b5db",
   "metadata": {},
   "outputs": [
    {
     "name": "stdout",
     "output_type": "stream",
     "text": [
      "Enter a number: 65\n",
      "The square root of 65.000 is 8.062\n"
     ]
    }
   ],
   "source": [
    "num = float(input(\"Enter a number: \"))\n",
    "num_sqrt = num ** 0.5\n",
    "print('The square root of %0.3f is %0.3f' % (num, num_sqrt))"
   ]
  },
  {
   "cell_type": "code",
   "execution_count": 7,
   "id": "77a9e6f0",
   "metadata": {},
   "outputs": [
    {
     "name": "stdout",
     "output_type": "stream",
     "text": [
      "Enter the length of side a: 4\n",
      "Enter the length of side b: 3\n",
      "Enter the length of side c: 8\n",
      "The area of the triangle is: (4.705835796207353e-16+7.685213074469699j)\n"
     ]
    }
   ],
   "source": [
    "a = float(input(\"Enter the length of side a: \"))\n",
    "b = float(input(\"Enter the length of side b: \"))\n",
    "c = float(input(\"Enter the length of side c: \"))\n",
    "s = (a + b + c) / 2\n",
    "area = (s * (s - a) * (s - b) * (s - c)) ** 0.5\n",
    "\n",
    "print(\"The area of the triangle is:\", area)\n"
   ]
  },
  {
   "cell_type": "code",
   "execution_count": 8,
   "id": "5a8aca03",
   "metadata": {},
   "outputs": [
    {
     "name": "stdout",
     "output_type": "stream",
     "text": [
      "The value of x after swapping: 20\n",
      "The value of y after swapping: 10\n"
     ]
    }
   ],
   "source": [
    "x = 10\n",
    "y = 20\n",
    "\n",
    "# Swapping values\n",
    "temp = x\n",
    "x = y\n",
    "y = temp\n",
    "\n",
    "print('The value of x after swapping: {}'.format(x))\n",
    "print('The value of y after swapping: {}'.format(y))\n"
   ]
  },
  {
   "cell_type": "code",
   "execution_count": 9,
   "id": "40077cc7",
   "metadata": {},
   "outputs": [
    {
     "name": "stdout",
     "output_type": "stream",
     "text": [
      "Random Integer: 33\n",
      "Random Float: 0.8624643603647288\n"
     ]
    }
   ],
   "source": [
    "import random\n",
    "random_integer = random.randint(1, 100)\n",
    "print(\"Random Integer:\", random_integer)\n",
    "random_float = random.random()\n",
    "print(\"Random Float:\", random_float)"
   ]
  },
  {
   "cell_type": "code",
   "execution_count": 10,
   "id": "ae1a0704",
   "metadata": {},
   "outputs": [
    {
     "name": "stdout",
     "output_type": "stream",
     "text": [
      "Enter the distance in kilometers: 155\n",
      "155.0 kilometers is approximately 96.312505 miles\n"
     ]
    }
   ],
   "source": [
    "kilometers = float(input(\"Enter the distance in kilometers: \"))\n",
    "miles = kilometers * 0.621371\n",
    "print(f\"{kilometers} kilometers is approximately {miles} miles\")"
   ]
  },
  {
   "cell_type": "code",
   "execution_count": 11,
   "id": "a242450e",
   "metadata": {},
   "outputs": [
    {
     "name": "stdout",
     "output_type": "stream",
     "text": [
      "Enter a number: 65\n",
      "The sum is 65.000000\n"
     ]
    }
   ],
   "source": [
    "number = float(input(\"Enter a number: \"))\n",
    "print(\"The sum is %1f\" % number)\n"
   ]
  },
  {
   "cell_type": "code",
   "execution_count": 15,
   "id": "770b54b1",
   "metadata": {},
   "outputs": [
    {
     "name": "stdout",
     "output_type": "stream",
     "text": [
      "Enter a number:6\n",
      "Positive number\n"
     ]
    }
   ],
   "source": [
    "num = float(input(\"Enter a number:\"))\n",
    "if num > 0:\n",
    "    print(\"Positive number\")\n",
    "elif num == 0:\n",
    "    print('Zero')\n",
    "else:\n",
    "    print('Negative value')\n"
   ]
  },
  {
   "cell_type": "code",
   "execution_count": 17,
   "id": "6d6aa877",
   "metadata": {},
   "outputs": [
    {
     "name": "stdout",
     "output_type": "stream",
     "text": [
      "Enter a number:45\n",
      "Positive number\n"
     ]
    }
   ],
   "source": [
    "num = float(input(\"Enter a number:\"))\n",
    "if num >= 0:\n",
    "    if num == 0:\n",
    "        print('Zero')\n",
    "    else:\n",
    "        print('Positive number')\n",
    "else:\n",
    "    print('Negative number')\n"
   ]
  },
  {
   "cell_type": "code",
   "execution_count": 18,
   "id": "e8c9099a",
   "metadata": {},
   "outputs": [
    {
     "name": "stdout",
     "output_type": "stream",
     "text": [
      "Enter a number:85\n",
      "The number is odd\n"
     ]
    }
   ],
   "source": [
    "num = int(input(\"Enter a number:\"))\n",
    "if num % 2 == 0:\n",
    "    print(\"The number is even\")\n",
    "else:\n",
    "    print(\"The number is odd\")\n"
   ]
  },
  {
   "cell_type": "code",
   "execution_count": 19,
   "id": "39df5866",
   "metadata": {},
   "outputs": [
    {
     "name": "stdout",
     "output_type": "stream",
     "text": [
      "Enter a number:87\n",
      "The number is odd\n"
     ]
    }
   ],
   "source": [
    "num = int(input(\"Enter a number:\"))\n",
    "if num % 2 == 0:\n",
    "    print(\"The number is even\")\n",
    "else:\n",
    "    print(\"The number is odd\")\n"
   ]
  },
  {
   "cell_type": "code",
   "execution_count": 20,
   "id": "9b3bb446",
   "metadata": {},
   "outputs": [
    {
     "name": "stdout",
     "output_type": "stream",
     "text": [
      "Enter a number: 32\n",
      "The number is even\n"
     ]
    }
   ],
   "source": [
    "num = int(input(\"Enter a number: \"))\n",
    "if (num % 2) == 0:\n",
    "    print(\"The number is even\")\n",
    "\n",
    "  "
   ]
  },
  {
   "cell_type": "code",
   "execution_count": 22,
   "id": "008897be",
   "metadata": {},
   "outputs": [
    {
     "name": "stdout",
     "output_type": "stream",
     "text": [
      "Enter the first number: 65\n",
      "Enter the second number: 45\n",
      "Enter the third number: 82\n",
      "The largest number is 82.0\n"
     ]
    }
   ],
   "source": [
    "num = float(input(\"Enter the first number: \"))\n",
    "num2 = float(input(\"Enter the second number: \"))\n",
    "num3 = float(input(\"Enter the third number: \"))\n",
    "\n",
    "largest = None\n",
    "\n",
    "if num >= num2 and num >= num3:\n",
    "    largest = num\n",
    "elif num2 >= num and num2 >= num3:\n",
    "    largest = num2\n",
    "else:\n",
    "    largest = num3\n",
    "\n",
    "if largest is not None:\n",
    "    print(\"The largest number is\", largest)\n",
    "else:\n",
    "    print(\"All three numbers are equal.\")\n"
   ]
  },
  {
   "cell_type": "code",
   "execution_count": 24,
   "id": "af6121ac",
   "metadata": {},
   "outputs": [
    {
     "name": "stdout",
     "output_type": "stream",
     "text": [
      "Enter the first number: 36\n",
      "Enter the second number: 14\n",
      "Enter the third number: 25\n",
      "The largest number is 36.0\n"
     ]
    }
   ],
   "source": [
    "num1 = float(input(\"Enter the first number: \"))\n",
    "num2 = float(input(\"Enter the second number: \"))\n",
    "num3 = float(input(\"Enter the third number: \"))\n",
    "\n",
    "largest = None\n",
    "\n",
    "if num1 >= num2 and num1 >= num3:\n",
    "    largest = num1\n",
    "elif num2 >= num1 and num2 >= num3:\n",
    "    largest = num2\n",
    "else:\n",
    "    largest = num3\n",
    "\n",
    "if largest is not None:\n",
    "    print(\"The largest number is\", largest)\n",
    "else:\n",
    "    print(\"All three numbers are equal.\")\n"
   ]
  },
  {
   "cell_type": "code",
   "execution_count": 27,
   "id": "dbc9391d",
   "metadata": {},
   "outputs": [
    {
     "name": "stdout",
     "output_type": "stream",
     "text": [
      "Enter a number: 36\n",
      "The factorial of 36 is 371993326789901217467999448150835200000000\n"
     ]
    }
   ],
   "source": [
    "def factorial(x):\n",
    "    if x == 1:\n",
    "        return 1\n",
    "    else:\n",
    "        return x * factorial(x - 1)\n",
    "\n",
    "num = int(input(\"Enter a number: \"))\n",
    "result = factorial(num)\n",
    "print(f\"The factorial of {num} is {result}\")\n"
   ]
  },
  {
   "cell_type": "code",
   "execution_count": 20,
   "id": "2ef279d5",
   "metadata": {},
   "outputs": [
    {
     "name": "stdout",
     "output_type": "stream",
     "text": [
      "The factorial of 65.0 is 8.247650592082472e+90\n"
     ]
    }
   ],
   "source": [
    "def factorial(x):\n",
    "    if x == 1:\n",
    "        return 1\n",
    "    else:\n",
    "        return x * factorial(x - 1)\n",
    "    \n",
    "result = factorial(num)\n",
    "print(\"The factorial of\", num, \"is\", result)\n"
   ]
  },
  {
   "cell_type": "code",
   "execution_count": 32,
   "id": "e3597838",
   "metadata": {},
   "outputs": [
    {
     "name": "stdout",
     "output_type": "stream",
     "text": [
      "The total terms are 5\n",
      "Term 1: 1\n",
      "Term 2: 2\n",
      "Term 3: 4\n",
      "Term 4: 8\n",
      "Term 5: 16\n"
     ]
    }
   ],
   "source": [
    "terms = 5  # Define the number of terms\n",
    "\n",
    "result = list(map(lambda x: 2 ** x, range(terms)))\n",
    "print(\"The total terms are\", terms)\n",
    "\n",
    "for i in range(terms):\n",
    "    print(f\"Term {i + 1}: {result[i]}\")\n"
   ]
  },
  {
   "cell_type": "code",
   "execution_count": 33,
   "id": "16183b77",
   "metadata": {},
   "outputs": [
    {
     "name": "stdout",
     "output_type": "stream",
     "text": [
      "Numbers divisible by 13 are [65, 39, 221]\n"
     ]
    }
   ],
   "source": [
    "my_list = [12, 65, 54, 39, 102, 339, 221]\n",
    "result = list(filter(lambda x: (x % 13 == 0), my_list))\n",
    "print(\"Numbers divisible by 13 are\", result)\n"
   ]
  },
  {
   "cell_type": "code",
   "execution_count": 22,
   "id": "17132a3c",
   "metadata": {},
   "outputs": [
    {
     "name": "stdout",
     "output_type": "stream",
     "text": [
      "The decimal value of 344 is\n",
      "0b101011000 in binary\n",
      "0o530 in octal\n",
      "0x158 in hexadecimal\n"
     ]
    }
   ],
   "source": [
    "dec = 344\n",
    "print(\"The decimal value of\", dec, \"is\")\n",
    "print(bin(dec), \"in binary\")\n",
    "print(oct(dec), \"in octal\")\n",
    "print(hex(dec), \"in hexadecimal\")\n"
   ]
  },
  {
   "cell_type": "code",
   "execution_count": 25,
   "id": "d6b8c03e",
   "metadata": {},
   "outputs": [
    {
     "name": "stdout",
     "output_type": "stream",
     "text": [
      "2 * 1 = 2\n",
      "2 * 2 = 4\n",
      "2 * 3 = 6\n",
      "2 * 4 = 8\n",
      "2 * 5 = 10\n",
      "2 * 6 = 12\n",
      "2 * 7 = 14\n",
      "2 * 8 = 16\n",
      "2 * 9 = 18\n",
      "2 * 10 = 20\n"
     ]
    }
   ],
   "source": [
    "max_number = 10  # You can change this to the desired maximum number\n",
    "\n",
    "for i in range(1, max_number + 1):\n",
    "    result = 2 * i\n",
    "    print(f\"2 * {i} = {result}\")\n",
    "\n",
    "    \n"
   ]
  },
  {
   "cell_type": "code",
   "execution_count": 27,
   "id": "5460d035",
   "metadata": {},
   "outputs": [
    {
     "name": "stdout",
     "output_type": "stream",
     "text": [
      "    October 2023\n",
      "Mo Tu We Th Fr Sa Su\n",
      "                   1\n",
      " 2  3  4  5  6  7  8\n",
      " 9 10 11 12 13 14 15\n",
      "16 17 18 19 20 21 22\n",
      "23 24 25 26 27 28 29\n",
      "30 31\n",
      "\n"
     ]
    }
   ],
   "source": [
    "import calendar\n",
    "\n",
    "\n",
    "year = 2023\n",
    "month = 10  # October\n",
    "\n",
    "\n",
    "cal = calendar.month(year, month)\n",
    "print(cal)\n"
   ]
  },
  {
   "cell_type": "code",
   "execution_count": 35,
   "id": "79fbe45b",
   "metadata": {},
   "outputs": [
    {
     "name": "stdout",
     "output_type": "stream",
     "text": [
      "Enter a string: 54\n",
      "The string is not a palindrome.\n"
     ]
    }
   ],
   "source": [
    "def is_palindrome(s):\n",
    "    s = s.lower()  \n",
    "    s = ''.join(filter(str.isalnum, s))  \n",
    "    return s == s[::-1]  \n",
    "\n",
    "# Test the function\n",
    "input_string = input(\"Enter a string: \")\n",
    "if is_palindrome(input_string):\n",
    "    print(\"The string is a palindrome.\")\n",
    "else:\n",
    "    print(\"The string is not a palindrome.\")\n"
   ]
  },
  {
   "cell_type": "code",
   "execution_count": 5,
   "id": "a9a275bd",
   "metadata": {},
   "outputs": [
    {
     "name": "stdout",
     "output_type": "stream",
     "text": [
      "The string is a palindrome.\n"
     ]
    }
   ],
   "source": [
    "my_str = 'aIbohPhoBiA'\n",
    "my_str = my_str.casefold()\n",
    "rev_str = reversed(my_str)\n",
    "\n",
    "if list(my_str) == list(rev_str):\n",
    "    print(\"The string is a palindrome.\")\n",
    "else:\n",
    "    print(\"The string is not a palindrome.\")\n"
   ]
  },
  {
   "cell_type": "code",
   "execution_count": 7,
   "id": "8e8e9de5",
   "metadata": {},
   "outputs": [
    {
     "name": "stdout",
     "output_type": "stream",
     "text": [
      "Hello he said and went\n"
     ]
    }
   ],
   "source": [
    "# Define punctuation\n",
    "punctuations = '''!()-[]{};:'\"\\,<>./?@#$%^&*_~'''\n",
    "my_str = \"Hello!!!, he said ---and went.\"\n",
    "# Remove punctuation from the string\n",
    "no_punct = \"\"\n",
    "for char in my_str:\n",
    "    if char not in punctuations:\n",
    "        no_punct = no_punct + char\n",
    "# Display the unpunctuated string\n",
    "print(no_punct)\n"
   ]
  },
  {
   "cell_type": "code",
   "execution_count": null,
   "id": "f3268d9c",
   "metadata": {},
   "outputs": [],
   "source": []
  }
 ],
 "metadata": {
  "kernelspec": {
   "display_name": "Python 3 (ipykernel)",
   "language": "python",
   "name": "python3"
  },
  "language_info": {
   "codemirror_mode": {
    "name": "ipython",
    "version": 3
   },
   "file_extension": ".py",
   "mimetype": "text/x-python",
   "name": "python",
   "nbconvert_exporter": "python",
   "pygments_lexer": "ipython3",
   "version": "3.11.4"
  }
 },
 "nbformat": 4,
 "nbformat_minor": 5
}
