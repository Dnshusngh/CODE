{
 "cells": [
  {
   "cell_type": "code",
   "execution_count": null,
   "id": "c081ff07",
   "metadata": {},
   "outputs": [],
   "source": [
    "# Example of using higher-order functions in Python  \n",
    "# Function that adds 1 to the passed value (x)  \n",
    "def add(x):  \n",
    "    return x + 1  \n",
    "# Function that multiplies the passed value (x) by 2  \n",
    "def multiply(x):  \n",
    "    return x * 2  \n",
    "# Function that applies another function on passed value (x)  \n",
    "def apply(func, x):  \n",
    "    return func(x)  \n",
    "result1 = apply(add, 3)  # Result: 4  \n",
    "result2 = apply(multiply, 3)  # Result: 6  \n"
   ]
  },
  {
   "cell_type": "code",
   "execution_count": null,
   "id": "8a83fe51",
   "metadata": {},
   "outputs": [],
   "source": [
    "# Example of using lambda functions in Python  \n",
    "# Lambda function that adds 1 to x  \n",
    "add = lambda x: x + 1  \n",
    "  \n",
    "# Lambda function that multiplies x by 2  \n",
    "multiply = lambda x: x * 2  \n",
    "  \n",
    "result1 = add(3)  # Result: 4  \n",
    "result2 = multiply(3)  # Result: 6  \n"
   ]
  },
  {
   "cell_type": "code",
   "execution_count": null,
   "id": "0ea2751e",
   "metadata": {},
   "outputs": [],
   "source": [
    "# Example of using map, filter, and reduce in Python  \n",
    "data = [1, 2, 3, 4, 5]  \n",
    "# Using the map to apply a function to each element  \n",
    "# Lambda function returns the square of x  \n",
    "result1 = map(lambda x: x * 2, data)  # Result: [2, 4, 6, 8, 10]  \n",
    "# Using the filter to filter elements based on a condition  \n",
    "# Lambda function returns True for an even number  \n",
    "result2 = filter(lambda x: x % 2 == 0, data)  # Result: [2, 4]  \n",
    "# Using reduce to aggregate elements  \n",
    "# Lambda function returns product of x and y  \n",
    "from functools import reduce  \n",
    "result3 = reduce(lambda x, y: x * y, data)  # Result: 120  \n"
   ]
  },
  {
   "cell_type": "code",
   "execution_count": null,
   "id": "f70c3432",
   "metadata": {},
   "outputs": [],
   "source": [
    "# Example of using list comprehensions in Python  \n",
    "data = [1, 2, 3, 4, 5]  \n",
    "\n",
    "# Using list comprehension to apply a function to each element  \n",
    "result1 = [x * 2 for x in data]  # Result: [2, 4, 6, 8, 10]  \n",
    "\n",
    "# Using list comprehension to filter elements based on a condition  \n",
    "result2 = [x for x in data if x % 2 == 0]  # Result: [2, 4]  \n",
    "\n",
    "# Using list comprehension to aggregate elements  \n",
    "result3 = reduce(lambda x, y: x * y, data)  # Result 120  \n"
   ]
  },
  {
   "cell_type": "code",
   "execution_count": null,
   "id": "045abeee",
   "metadata": {},
   "outputs": [],
   "source": [
    "# Using map() to square each element of the data list  \n",
    "data = [1, 2, 3, 4, 5]  \n",
    "  \n",
    "# Map function returns the map object  \n",
    "squares = map(lambda x: x*x, data)  \n",
    "  \n",
    "# Iterating the elements of the squares  \n",
    "for i in squares:  \n",
    "    print(i, end=\" \")  \n",
    "  \n",
    "# Also, we can convert the map object into a list  \n",
    "squares = list(map(lambda x: x*x, data))  \n",
    "print(f\"Squares: {squares}\")  \n"
   ]
  },
  {
   "cell_type": "code",
   "execution_count": null,
   "id": "9bd14f39",
   "metadata": {},
   "outputs": [],
   "source": [
    "# Using map() to convert each element into an integer  \n",
    "data1 = list(map(int, input(\"Enter integer values: \").split()))  \n",
    "\n",
    "# Printing the data1 values  \n",
    "print(f\"Integer data = {data1}\")  \n",
    "  \n",
    "# Using map() to convert each element into a float  \n",
    "data2 = list(map(float, input(\"Enter Floating values: \").split()))  \n",
    "  \n",
    "# Printing the data2 values  \n",
    "print(f\"Float data = {data2}\")  \n"
   ]
  },
  {
   "cell_type": "code",
   "execution_count": null,
   "id": "c0a0619a",
   "metadata": {},
   "outputs": [],
   "source": [
    "# Python to demonstrate how to pass multiple iterables  \n",
    "# in the map function  \n",
    "# List that contains base values  \n",
    "base = [2, 4, 6, 8, 10]  \n",
    "  \n",
    "# List that contains exponents  \n",
    "power = [1, 2, 3, 4, 5]  \n",
    "  \n",
    "# Storing the list of x**y  \n",
    "answer = list(map(pow, base, power))  \n",
    "  \n",
    "# Printing the result  \n",
    "print(\"Answer:\", answer)  \n"
   ]
  },
  {
   "cell_type": "code",
   "execution_count": null,
   "id": "e1d50f3c",
   "metadata": {},
   "outputs": [],
   "source": [
    "# Using filter() to filter even numbers from a list  \n",
    "data = [1, 2, 3, 4, 5]  \n",
    "# The filter function filters the even numbers from the data  \n",
    "# and returns a filter object (an iterable)  \n",
    "evens = filter(lambda x: x % 2 == 0, data)  \n",
    "# Iterating the values of evens  \n",
    "for i in evens:  \n",
    "    print(i, end=\" \")  \n",
    "# We can convert the filter object into a list as follows:  \n",
    "evens = list(filter(lambda x: x % 2 == 0, data))  \n",
    "# Printing the evens list  \n",
    "print(f\"Evens = {evens}\")  \n"
   ]
  },
  {
   "cell_type": "code",
   "execution_count": null,
   "id": "7df0adb8",
   "metadata": {},
   "outputs": [],
   "source": [
    "# Python to demonstrate usage of filter function  \n",
    "from math import sqrt  \n",
    "# List that contains random integer values  \n",
    "data = [0, 1, 4, 6, 8, 9, 10, 12, 16, 81, 23, 36]  \n",
    "# Function that returns true for perfect squares  \n",
    "def isPerfectSqr(i):  \n",
    "    return sqrt(i).is_integer()  \n",
    "# Storing the result  \n",
    "answer = list(filter(isPerfectSqr, data))  \n",
    "# Printing the result  \n",
    "print(\"Answer: \", answer)  \n",
    "# Printing the evens list  \n",
    "print(f\"Evens = {evens}\")  \n"
   ]
  },
  {
   "cell_type": "code",
   "execution_count": null,
   "id": "40c6e2ff",
   "metadata": {},
   "outputs": [],
   "source": [
    "# Using filter() to filter names starting with letter H  \n",
    "# Method 1  \n",
    "# A list containing names  \n",
    "names = [\"Arun\", \"Sonu\", \"Harsh\", \"Harry\", \"Anu\", \"Hassi\"]  \n",
    "# The filter function filters the name from the names  \n",
    "# and returns a filter object (an iterable)  \n",
    "# We can convert the filter object into a list as follows:  \n",
    "name_start_with_H = list(filter(lambda x: x[0] == 'H', names))  \n",
    "# Printing the name_start_with_H list  \n",
    "print(f\"Method 1 result = {name_start_with_H}\")  \n"
   ]
  },
  {
   "cell_type": "code",
   "execution_count": null,
   "id": "7e344fe6",
   "metadata": {},
   "outputs": [],
   "source": [
    "# Method 2  \n",
    "# We can also use a function instead of lambda function  \n",
    "# The H_name function returns true if x (name) starts with 'H'  \n",
    "def H_name(x):  \n",
    "    return x[0] == 'H'  \n",
    "# Filtering the result and printing it into the console  \n",
    "name_start_with_H = list(filter(H_name, names))  \n",
    "print(f\"Method 2 result = {name_start_with_H}\")  \n",
    "\u000b",
    "\n"
   ]
  },
  {
   "cell_type": "code",
   "execution_count": null,
   "id": "18dcd8ff",
   "metadata": {},
   "outputs": [],
   "source": [
    "# Examples to understand the reduce() function  \n",
    "from functools import reduce  \n",
    "# Function that returns the sum of two numbers  \n",
    "def add(a, b):  \n",
    "    return a + b  \n",
    "# Our Iterable  \n",
    "num_list = [1, 2, 3, 4, 5, 6, 7, 8, 9, 10]  \n",
    "# add function is passed as the first argument, and num_list is passed as the second argument  \n",
    "sum = reduce(add, num_list)  \n",
    "print(f\"Sum of the integers of num_list : {sum}\")  \n",
    "# Passing 10 as an initial value  \n",
    "sum = reduce(add, num_list, 10)  \n",
    "print(f\"Sum of the integers of num_list with initial value 10 : {sum}\")  \n",
    "\u000b",
    "\n"
   ]
  },
  {
   "cell_type": "code",
   "execution_count": null,
   "id": "c2b16e24",
   "metadata": {},
   "outputs": [],
   "source": [
    "# Importing reduce function from the functools module  \n",
    "from functools import reduce  \n",
    "# A list containing some integers  \n",
    "num = [20, 22, 24, 12, 6, 88, 10, 55, 66]  \n",
    "\"\"\" Method 1 - Using simple function \"\"\"  \n",
    "# Function that returns the largest of x and y  \n",
    "def large(x, y):  \n",
    "    return x if x > y else y  \n",
    "# Using reduce to find the largest of all and printing the result  \n",
    "largest = reduce(large, num)  \n",
    "print(f\"Largest found with method 1: {largest}\")  \n",
    "\n"
   ]
  },
  {
   "cell_type": "code",
   "execution_count": null,
   "id": "8af80741",
   "metadata": {},
   "outputs": [],
   "source": [
    "\"\"\" Method 2 - Using lambda function \"\"\"  \n",
    "  \n",
    "# Using reduce to find the largest of all and printing the result  \n",
    "largest = reduce(lambda x, y: x if x > y else y, num)  \n",
    "print(f\"Largest found with method 2: {largest}\")  \n",
    "\n"
   ]
  },
  {
   "cell_type": "code",
   "execution_count": null,
   "id": "781f49d0",
   "metadata": {},
   "outputs": [],
   "source": [
    "# Python program to show how to use a pass statement in a for loop  \n",
    "'''pass acts as a placeholder. We can fill this place later on'''  \n",
    "sequence = {\"Python\", \"Pass\", \"Statement\", \"Placeholder\"}  \n",
    "for value in sequence:  \n",
    "    if value == \"Pass\":  \n",
    "        pass # leaving an empty if block using the pass keyword  \n",
    "    else:  \n",
    "        print(\"Not reached pass keyword: \", value)  \n",
    "\n"
   ]
  },
  {
   "cell_type": "code",
   "execution_count": null,
   "id": "6eec4744",
   "metadata": {},
   "outputs": [],
   "source": [
    "# Python program to show how to create a tuple    \n",
    "# Creating an empty tuple    \n",
    "empty_tuple = ()    \n",
    "print(\"Empty tuple: \", empty_tuple)    \n",
    "# Creating tuple having integers    \n",
    "int_tuple = (4, 6, 8, 10, 12, 14)    \n",
    "print(\"Tuple with integers: \", int_tuple)    \n",
    "# Creating a tuple having objects of different data types    \n",
    "mixed_tuple = (4, \"Python\", 9.3)    \n",
    "print(\"Tuple with different data types: \", mixed_tuple)    \n",
    "# Creating a nested tuple    \n",
    "nested_tuple = (\"Python\", {4: 5, 6: 2, 8:2}, (5, 3, 5, 6))    \n",
    "print(\"A nested tuple: \", nested_tuple)    \n",
    "\n"
   ]
  },
  {
   "cell_type": "code",
   "execution_count": null,
   "id": "77440d83",
   "metadata": {},
   "outputs": [],
   "source": [
    "print(tuple_[1.0])     \n",
    "except Exception as e:    \n",
    "    print(e)    \n",
    "# Creating a nested tuple    \n",
    "nested_tuple = (\"Tuple\", [4, 6, 2, 6], (6, 2, 6, 7))    \n",
    "# Accessing the index of a nested tuple    \n",
    "print(nested_tuple[0][3])           \n",
    "print(nested_tuple[1][1])       \n"
   ]
  },
  {
   "cell_type": "code",
   "execution_count": null,
   "id": "d7a95f8e",
   "metadata": {},
   "outputs": [],
   "source": [
    "tuple_ = (\"Python\", \"Tuple\", \"Ordered\", \"Collection\")    \n",
    "print(tuple_[0])      \n",
    "print(tuple_[1])     \n",
    "# trying to access element index more than the length of a tuple    \n",
    "try:    \n",
    "    print(tuple_[5])     \n",
    "except Exception as e:    \n",
    "    print(e)   \n"
   ]
  },
  {
   "cell_type": "code",
   "execution_count": null,
   "id": "8fbcaf70",
   "metadata": {},
   "outputs": [],
   "source": [
    "# Python program to show how negative indexing works in Python tuples    \n",
    "# Creating a tuple    \n",
    "tuple_ = (\"Python\", \"Tuple\", \"Ordered\", \"Collection\")    \n",
    "# Printing elements using negative indices    \n",
    "print(\"Element at -1 index: \", tuple_[-1])    \n",
    "print(\"Elements between -4 and -1 are: \", tuple_[-4:-1])    \n",
    "      \n"
   ]
  },
  {
   "cell_type": "code",
   "execution_count": null,
   "id": "4eac751e",
   "metadata": {},
   "outputs": [],
   "source": [
    "# Python program to show how slicing works in Python tuples    \n",
    "# Creating a tuple    \n",
    "tuple_ = (\"Python\", \"Tuple\", \"Ordered\", \"Immutable\", \"Collection\", \"Objects\")    \n",
    "# Using slicing to access elements of the tuple    \n",
    "print(\"Elements between indices 1 and 3: \", tuple_[1:3])    \n",
    "# Using negative indexing in slicing    \n",
    "print(\"Elements between indices 0 and -4: \", tuple_[:-4])    \n",
    "# Printing the entire tuple by using the default start and end values.     \n",
    "print(\"Entire tuple: \", tuple_[:])    \n",
    "      \n"
   ]
  },
  {
   "cell_type": "code",
   "execution_count": null,
   "id": "5d879e00",
   "metadata": {},
   "outputs": [],
   "source": [
    "# Python program to show how to delete elements of a Python tuple    \n",
    "# Creating a tuple    \n",
    "tuple_ = (\"Python\", \"Tuple\", \"Ordered\", \"Immutable\", \"Collection\", \"Objects\")    \n",
    "# Deleting a particular element of the tuple    \n",
    "try:     \n",
    "    del tuple_[3]    \n",
    "    print(tuple_)    \n",
    "except Exception as e:    \n",
    "    print(e)    \n",
    "# Deleting the variable from the global space of the program    \n",
    "del tuple_    \n",
    "# Trying accessing the tuple after deleting it    \n",
    "try:    \n",
    "    print(tuple_)    \n",
    "except Exception as e:    \n",
    "    print(e)    \n",
    "      \n"
   ]
  },
  {
   "cell_type": "code",
   "execution_count": null,
   "id": "bcd5c854",
   "metadata": {},
   "outputs": [],
   "source": [
    "# Python program to show repetition in tuples    \n",
    "tuple_ = ('Python',\"Tuples\")    \n",
    "print(\"Original tuple is: \", tuple_)    \n",
    "# Repeting the tuple elements    \n",
    "tuple_ = tuple_ * 3    \n",
    "print(\"New tuple is: \", tuple_)    \n",
    "      \n"
   ]
  },
  {
   "cell_type": "code",
   "execution_count": null,
   "id": "bee0e279",
   "metadata": {},
   "outputs": [],
   "source": [
    "# Creating tuples  \n",
    "T1 = (0, 1, 5, 6, 7, 2, 2, 4, 2, 3, 2, 3, 1, 3, 2)  \n",
    "T2 = ('python', 'java', 'python', ’HTML', 'python', 'java')  \n",
    "# counting the appearance of 3  \n",
    "res = T1.count(2)  \n",
    "print('Count of 2 in T1 is:', res)  \n",
    "# counting the appearance of java  \n",
    "res = T2.count('java')  \n",
    "print('Count of Java in T2 is:', res)  \n"
   ]
  },
  {
   "cell_type": "code",
   "execution_count": null,
   "id": "e0aaaa88",
   "metadata": {},
   "outputs": [],
   "source": [
    "# Creating tuples  \n",
    "Tuple_data = (0, 1, 2, 3, 2, 3, 1, 3, 2)  \n",
    "# getting the index of 3  \n",
    "res = Tuple_data.index(3)  \n",
    "print('First occurrence of 1 is', res)  \n",
    "# getting the index of 3 after 4th  \n",
    "# index  \n",
    "res = Tuple_data.index(3, 4)  \n",
    "print('First occurrence of 1 after 4th index is:', res)  \n",
    " \n"
   ]
  },
  {
   "cell_type": "code",
   "execution_count": null,
   "id": "b4b3f19d",
   "metadata": {},
   "outputs": [],
   "source": [
    "# Python program to show how to perform membership test for tuples    \n",
    "# Creating a tuple    \n",
    "tuple_ = (\"Python\", \"Tuple\", \"Ordered\", \"Immutable\", \"Collection\", \"Ordered\")    \n",
    "# In operator    \n",
    "print('Tuple' in tuple_)    \n",
    "print('Items' in tuple_)    \n",
    "# Not in operator    \n",
    "print('Immutable' not in tuple_)    \n",
    "print('Items' not in tuple_)    \n",
    " \n"
   ]
  },
  {
   "cell_type": "code",
   "execution_count": null,
   "id": "a120fd67",
   "metadata": {},
   "outputs": [],
   "source": [
    "# Python program to show how to iterate over tuple elements    \n",
    "# Creating a tuple    \n",
    "tuple_ = (\"Python\", \"Tuple\", \"Ordered\", \"Immutable\")    \n",
    "# Iterating over tuple elements using a for loop    \n",
    "for item in tuple_:    \n",
    "    print(item)    \n",
    " \n",
    " \n"
   ]
  },
  {
   "cell_type": "code",
   "execution_count": null,
   "id": "01c046f0",
   "metadata": {},
   "outputs": [],
   "source": [
    "# Python program to show how to concatenate tuples    \n",
    "# Creating a tuple    \n",
    "tuple_ = (\"Python\", \"Tuple\", \"Ordered\", \"Immutable\")    \n",
    "# Adding a tuple to the tuple_    \n",
    "print(tuple_ + (4, 5, 6))    \n",
    " \n",
    " \n"
   ]
  },
  {
   "cell_type": "code",
   "execution_count": null,
   "id": "787a76a1",
   "metadata": {},
   "outputs": [],
   "source": [
    "Days = set([\"Monday\", \"Tuesday\", \"Wednesday\", \"Thursday\", \"Friday\", \"Saturday\", \"Sunday\"])    \n",
    "print(Days)    \n",
    "print(type(Days))    \n",
    "print(\"looping through the set elements ... \")    \n",
    "for i in Days:    \n",
    "    print(i) \n",
    "# Empty curly braces will create dictionary  \n",
    "set3 = {}  \n",
    "print(type(set3))  \n",
    "# Empty set using set() function  \n",
    "set4 = set()  \n",
    "print(type(set4))  \n",
    "   \n",
    "\u000b",
    "\u000b",
    " \n",
    " \n"
   ]
  },
  {
   "cell_type": "code",
   "execution_count": null,
   "id": "c6fc311e",
   "metadata": {},
   "outputs": [],
   "source": [
    "Months = set([\"January\",\"February\", \"March\", \"April\", \"May\", \"June\"])    \n",
    "print(\"\\nprinting the original set ... \")    \n",
    "print(months)    \n",
    "print(\"\\nAdding other months to the set...\");    \n",
    "Months.add(\"July\");    \n",
    "Months.add (\"August\");    \n",
    "print(\"\\nPrinting the modified set...\");    \n",
    "print(Months)    \n",
    "print(\"\\nlooping through the set elements ... \")    \n",
    "for i in Months:    \n",
    "    print(i)    \n"
   ]
  },
  {
   "cell_type": "code",
   "execution_count": null,
   "id": "05a7d696",
   "metadata": {},
   "outputs": [],
   "source": [
    "Months = set([\"January\",\"February\", \"March\", \"April\", \"May\", \"June\"])    \n",
    "print(\"\\nprinting the original set ... \")    \n",
    "print(Months)    \n",
    "print(\"\\nupdating the original set ... \")    \n",
    "Months.update([\"July\",\"August\",\"September\",\"October\"]);    \n",
    "print(\"\\nprinting the modified set ... \")     \n",
    "print(Months);  \n"
   ]
  },
  {
   "cell_type": "code",
   "execution_count": null,
   "id": "88fe5b0b",
   "metadata": {},
   "outputs": [],
   "source": [
    "months = set([\"January\",\"February\", \"March\", \"April\", \"May\", \"June\"])    \n",
    "print(\"\\nprinting the original set ... \")    \n",
    "print(months)    \n",
    "print(\"\\nRemoving some months from the set...\");    \n",
    "months.discard(\"January\");    \n",
    "months.discard(\"May\");    \n",
    "print(\"\\nPrinting the modified set...\");    \n",
    "print(months)    \n",
    "print(\"\\nlooping through the set elements ... \")    \n",
    "for i in months:    \n",
    "    print(i)    \n"
   ]
  },
  {
   "cell_type": "code",
   "execution_count": null,
   "id": "9843305d",
   "metadata": {},
   "outputs": [],
   "source": [
    "months = set([\"January\",\"February\", \"March\", \"April\", \"May\", \"June\"])    \n",
    "print(\"\\nprinting the original set ... \")    \n",
    "print(months)    \n",
    "print(\"\\nRemoving some months from the set...\");    \n",
    "months.remove(\"January\");    \n",
    "months.remove(\"May\");    \n",
    "print(\"\\nPrinting the modified set...\");    \n",
    "print(months)    \n"
   ]
  },
  {
   "cell_type": "code",
   "execution_count": null,
   "id": "c58bf2bc",
   "metadata": {},
   "outputs": [],
   "source": [
    "months = set([\"January\",\"February\", \"March\", \"April\", \"May\", \"June\"])    \n",
    "print(\"\\nprinting the original set ... \")    \n",
    "print(months)    \n",
    "print(\"\\nRemoving some months from the set...\");    \n",
    "months.discard(\"January\");    \n",
    "months.discard(\"May\");    \n",
    "print(\"\\nPrinting the modified set...\");    \n",
    "print(months)    \n",
    "print(\"\\nlooping through the set elements ... \")    \n",
    "for i in months:    \n",
    "    print(i)    \n"
   ]
  },
  {
   "cell_type": "code",
   "execution_count": null,
   "id": "dd3630ec",
   "metadata": {},
   "outputs": [],
   "source": [
    "months = set([\"January\",\"February\", \"March\", \"April\", \"May\", \"June\"])    \n",
    "print(\"\\nprinting the original set ... \")    \n",
    "print(months)    \n",
    "print(\"\\nRemoving some months from the set...\");    \n",
    "months.remove(\"January\");    \n",
    "months.remove(\"May\");    \n",
    "print(\"\\nPrinting the modified set...\");    \n",
    "print(months)    \n"
   ]
  },
  {
   "cell_type": "code",
   "execution_count": null,
   "id": "82696f52",
   "metadata": {},
   "outputs": [],
   "source": [
    "Months = set([\"January\",\"February\", \"March\", \"April\", \"May\", \"June\"])    \n",
    "print(\"\\nprinting the original set ... \")    \n",
    "print(Months)    \n",
    "print(\"\\nRemoving some months from the set...\");    \n",
    "Months.pop();    \n",
    "Months.pop();    \n",
    "print(\"\\nPrinting the modified set...\");    \n",
    "print(Months)    \n",
    "   \n"
   ]
  },
  {
   "cell_type": "code",
   "execution_count": null,
   "id": "696741c2",
   "metadata": {},
   "outputs": [],
   "source": [
    "Months = set([\"January\",\"February\", \"March\", \"April\", \"May\", \"June\"])    \n",
    "print(\"\\nprinting the original set ... \")    \n",
    "print(Months)    \n",
    "print(\"\\nRemoving all the items from the set...\");    \n",
    "Months.clear()    \n",
    "print(\"\\nPrinting the modified set...\")    \n",
    "print(Months)   \n",
    "   \n"
   ]
  },
  {
   "cell_type": "code",
   "execution_count": null,
   "id": "f51dc254",
   "metadata": {},
   "outputs": [],
   "source": [
    "Days1 = {\"Monday\",\"Tuesday\",\"Wednesday\",\"Thursday\", \"Sunday\"}    \n",
    "Days2 = {\"Friday\",\"Saturday\",\"Sunday\"}    \n",
    "print(Days1|Days2) #printing the union of the sets \n"
   ]
  },
  {
   "cell_type": "code",
   "execution_count": null,
   "id": "829d4048",
   "metadata": {},
   "outputs": [],
   "source": [
    "\n",
    "Days1 = {\"Monday\",\"Tuesday\",\"Wednesday\",\"Thursday\", \"Sunday\"}    \n",
    "Days2 = {\"Friday\",\"Saturday\",\"Sunday\"}    \n",
    "print(Days1|Days2) #printing the union of the sets \n"
   ]
  },
  {
   "cell_type": "code",
   "execution_count": null,
   "id": "c5d69639",
   "metadata": {},
   "outputs": [],
   "source": [
    "Days1 = {\"Monday\",\"Tuesday\", \"Wednesday\", \"Thursday\"}    \n",
    "Days2 = {\"Monday\",\"Tuesday\",\"Sunday\", \"Friday\"}    \n",
    "print(Days1&Days2) #prints the intersection of the two sets    \n"
   ]
  },
  {
   "cell_type": "code",
   "execution_count": null,
   "id": "ebc091be",
   "metadata": {},
   "outputs": [],
   "source": [
    "set1 = {\"Devansh\",\"John\", \"David\", \"Martin\"}    \n",
    "set2 = {\"Steve\", \"Milan\", \"David\", \"Martin\"}    \n",
    "print(set1.intersection(set2)) #prints the intersection of the two sets    \n",
    "\u000b"
   ]
  },
  {
   "cell_type": "code",
   "execution_count": null,
   "id": "0458bcad",
   "metadata": {},
   "outputs": [],
   "source": [
    "Days1 = {\"Monday\",  \"Tuesday\", \"Wednesday\", \"Thursday\"}    \n",
    "Days2 = {\"Monday\", \"Tuesday\", \"Sunday\"}    \n",
    "print(Days1-Days2) #{\"Wednesday\", \"Thursday\" will be printed}    \n"
   ]
  },
  {
   "cell_type": "code",
   "execution_count": null,
   "id": "f4e81796",
   "metadata": {},
   "outputs": [],
   "source": [
    "Days1 = {\"Monday\",  \"Tuesday\", \"Wednesday\", \"Thursday\"}    \n",
    "Days2 = {\"Monday\", \"Tuesday\", \"Sunday\"}    \n",
    "print(Days1.difference(Days2)) # prints the difference of the two sets Days1 and Days2    \n"
   ]
  },
  {
   "cell_type": "code",
   "execution_count": 4,
   "id": "0a77c631",
   "metadata": {},
   "outputs": [
    {
     "ename": "SyntaxError",
     "evalue": "invalid non-printable character U+00A0 (2843548306.py, line 1)",
     "output_type": "error",
     "traceback": [
      "\u001b[1;36m  Cell \u001b[1;32mIn[4], line 1\u001b[1;36m\u001b[0m\n\u001b[1;33m    Days1 = {\"Monday\",  \"Tuesday\", \"Wednesday\", \"Thursday\"}\u001b[0m\n\u001b[1;37m         ^\u001b[0m\n\u001b[1;31mSyntaxError\u001b[0m\u001b[1;31m:\u001b[0m invalid non-printable character U+00A0\n"
     ]
    }
   ],
   "source": [
    "Days1 = {\"Monday\",  \"Tuesday\", \"Wednesday\", \"Thursday\"}    \n",
    "Days2 = {\"Monday\", \"Tuesday\"}    \n",
    "Days3 = {\"Monday\", \"Tuesday\", \"Friday\"}    \n",
    "    \n",
    "#Days1 is the superset of Days2 hence it will print true.     \n",
    "print (Days1>Days2)     \n",
    "    \n",
    "#prints false since Days1 is not the subset of Days2     \n",
    "print (Days1<Days2)    \n",
    "    \n",
    "#prints false since Days2 and Days3 are not equivalent     \n",
    "print (Days2 == Days3)    \n"
   ]
  },
  {
   "cell_type": "code",
   "execution_count": null,
   "id": "323809fa",
   "metadata": {},
   "outputs": [],
   "source": []
  }
 ],
 "metadata": {
  "kernelspec": {
   "display_name": "Python 3 (ipykernel)",
   "language": "python",
   "name": "python3"
  },
  "language_info": {
   "codemirror_mode": {
    "name": "ipython",
    "version": 3
   },
   "file_extension": ".py",
   "mimetype": "text/x-python",
   "name": "python",
   "nbconvert_exporter": "python",
   "pygments_lexer": "ipython3",
   "version": "3.11.4"
  }
 },
 "nbformat": 4,
 "nbformat_minor": 5
}
