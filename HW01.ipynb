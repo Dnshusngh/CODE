{
 "cells": [
  {
   "cell_type": "code",
   "execution_count": 1,
   "id": "ef512843",
   "metadata": {},
   "outputs": [
    {
     "name": "stdout",
     "output_type": "stream",
     "text": [
      "Hello World\n",
      "<class 'str'>\n",
      "20\n",
      "<class 'int'>\n",
      "20.5\n",
      "<class 'float'>\n",
      "<class 'float'>\n",
      "['apple', 'banana', 'cherry']\n",
      "<class 'list'>\n",
      "('apple', 'banana', 'cherry')\n",
      "<class 'tuple'>\n",
      "range(0, 6)\n",
      "<class 'range'>\n",
      "{'name': 'John', 'age': 36}\n",
      "<class 'dict'>\n",
      "{'banana', 'cherry', 'apple'}\n",
      "<class 'set'>\n",
      "frozenset({'banana', 'cherry', 'apple'})\n",
      "<class 'frozenset'>\n",
      "True\n",
      "<class 'bool'>\n",
      "b'Hello'\n",
      "<class 'bytes'>\n",
      "b'Hello'\n",
      "<class 'bytes'>\n",
      "bytearray(b'\\x00\\x00\\x00\\x00\\x00')\n",
      "<class 'bytearray'>\n",
      "<memory at 0x0000024888253F40>\n",
      "<class 'memoryview'>\n",
      "None\n",
      "<class 'NoneType'>\n"
     ]
    }
   ],
   "source": [
    "x = \"Hello World\"\n",
    "\n",
    "#display x:\n",
    "print(x)\n",
    "\n",
    "#display the data type of x:\n",
    "print(type(x)) \n",
    "\n",
    "x = 20\n",
    "\n",
    "#display x:\n",
    "print(x)\n",
    "\n",
    "#display the data type of x:\n",
    "print(type(x)) \n",
    "\n",
    "x = 20.5\n",
    "\n",
    "#display x:\n",
    "print(x)\n",
    "\n",
    "#display the data type of x:\n",
    "print(type(x)) \n",
    "\n",
    "print(type(x)) \n",
    "\n",
    "x = [\"apple\", \"banana\", \"cherry\"]\n",
    "\n",
    "#display x:\n",
    "print(x)\n",
    "\n",
    "#display the data type of x:\n",
    "print(type(x)) \n",
    "\n",
    "x = (\"apple\", \"banana\", \"cherry\")\n",
    "\n",
    "#display x:\n",
    "print(x)\n",
    "\n",
    "#display the data type of x:\n",
    "print(type(x)) \n",
    "\n",
    "x = range(6)\n",
    "\n",
    "#display x:\n",
    "print(x)\n",
    "\n",
    "#display the data type of x:\n",
    "print(type(x)) \n",
    "\n",
    "x = {\"name\" : \"John\", \"age\" : 36}\n",
    "\n",
    "#display x:\n",
    "print(x)\n",
    "\n",
    "#display the data type of x:\n",
    "print(type(x)) \n",
    "\n",
    "x = {\"apple\", \"banana\", \"cherry\"}\n",
    "\n",
    "#display x:\n",
    "print(x)\n",
    "\n",
    "#display the data type of x:\n",
    "print(type(x)) \n",
    "\n",
    "x = frozenset({\"apple\", \"banana\", \"cherry\"})\n",
    "\n",
    "#display x:\n",
    "print(x)\n",
    "\n",
    "#display the data type of x:\n",
    "print(type(x))\n",
    "\n",
    "x = True\n",
    "\n",
    "#display x:\n",
    "print(x)\n",
    "\n",
    "#display the data type of x:\n",
    "print(type(x)) \n",
    "\n",
    "x = b\"Hello\"\n",
    "\n",
    "#display x:\n",
    "print(x)\n",
    "\n",
    "#display the data type of x:\n",
    "print(type(x)) \n",
    "\n",
    "x = b\"Hello\"\n",
    "\n",
    "#display x:\n",
    "print(x)\n",
    "\n",
    "#display the data type of x:\n",
    "print(type(x)) \n",
    "\n",
    "x = bytearray(5)\n",
    "\n",
    "#display x:\n",
    "print(x)\n",
    "\n",
    "#display the data type of x:\n",
    "print(type(x)) \n",
    "\n",
    "x = memoryview(bytes(5))\n",
    "\n",
    "#display x:\n",
    "print(x)\n",
    "\n",
    "#display the data type of x:\n",
    "print(type(x)) \n",
    "\n",
    "x = None\n",
    "\n",
    "#display x:\n",
    "print(x)\n",
    "\n",
    "#display the data type of x:\n",
    "print(type(x))\n",
    "\n",
    "\n",
    "\n",
    "\n"
   ]
  },
  {
   "cell_type": "code",
   "execution_count": 2,
   "id": "fa565e9d",
   "metadata": {},
   "outputs": [
    {
     "name": "stdout",
     "output_type": "stream",
     "text": [
      "Yes\n"
     ]
    }
   ],
   "source": [
    "# Python program to demonstrate working of  \n",
    "# \"==\" \n",
    "  \n",
    "# Two different objects having same values \n",
    "x1 = [10, 20, 30] \n",
    "x2 = [10, 20, 30] \n",
    "  \n",
    "# Comparison using \"==\" operator \n",
    "if  x1 == x2: \n",
    "    print(\"Yes\") \n",
    "else: \n",
    "    print(\"No\") "
   ]
  },
  {
   "cell_type": "code",
   "execution_count": 3,
   "id": "3c3d5493",
   "metadata": {},
   "outputs": [
    {
     "name": "stdout",
     "output_type": "stream",
     "text": [
      "The largest number is 14\n"
     ]
    }
   ],
   "source": [
    "# Python program to find the largest number among the three input numbers\n",
    "\n",
    "# change the values of num1, num2 and num3\n",
    "# for a different result\n",
    "num1 = 10\n",
    "num2 = 14\n",
    "num3 = 12\n",
    "\n",
    "# uncomment following lines to take three numbers from user\n",
    "#num1 = float(input(\"Enter first number: \"))\n",
    "#num2 = float(input(\"Enter second number: \"))\n",
    "#num3 = float(input(\"Enter third number: \"))\n",
    "\n",
    "if (num1 >= num2) and (num1 >= num3):\n",
    "   largest = num1\n",
    "elif (num2 >= num1) and (num2 >= num3):\n",
    "   largest = num2\n",
    "else:\n",
    "   largest = num3\n",
    "\n",
    "print(\"The largest number is\", largest)"
   ]
  },
  {
   "cell_type": "code",
   "execution_count": 4,
   "id": "cda73652",
   "metadata": {},
   "outputs": [
    {
     "name": "stdout",
     "output_type": "stream",
     "text": [
      "8\n",
      "2\n",
      "15\n",
      "4.0\n",
      "1\n",
      "32\n",
      "7\n"
     ]
    }
   ],
   "source": [
    "x = 5\n",
    "y = 3\n",
    "\n",
    "print(x + y)\n",
    "\n",
    "x = 5\n",
    "y = 3\n",
    "\n",
    "print(x - y)\n",
    "\n",
    "x = 5\n",
    "y = 3\n",
    "\n",
    "print(x * y)\n",
    "\n",
    "x = 12\n",
    "y = 3\n",
    "\n",
    "print(x / y)\n",
    "\n",
    "x = 5\n",
    "y = 2\n",
    "\n",
    "print(x % y)\n",
    "\n",
    "x = 2\n",
    "y = 5\n",
    "\n",
    "print(x ** y) #same as 2*2*2*2*2\n",
    "\n",
    "x = 15\n",
    "y = 2\n",
    "\n",
    "print(x // y)\n",
    "\n",
    "#the floor division // rounds the result down to the nearest whole number"
   ]
  },
  {
   "cell_type": "code",
   "execution_count": 5,
   "id": "8377fe27",
   "metadata": {},
   "outputs": [
    {
     "name": "stdout",
     "output_type": "stream",
     "text": [
      "No, 'expensive' is NOT present.\n",
      "orl\n",
      "['Hello', ' World!']\n",
      "Hello World\n",
      "I want to pay 49.95 dollars for 3 pieces of item 567.\n",
      "Hello\n",
      "Hello\n",
      "Hello \bWorld!\n",
      "Hello\r",
      "World!\n",
      "Hello\n",
      "World!\n",
      "This will insert one \\ (backslash).\n",
      "It's alright.\n"
     ]
    }
   ],
   "source": [
    "txt = \"The best things in life are free!\"\n",
    "if \"expensive\" not in txt:\n",
    "  print(\"No, 'expensive' is NOT present.\")\n",
    "\n",
    "b = \"Hello, World!\"\n",
    "print(b[-5:-2])\n",
    "\n",
    "a = \"Hello, World!\"\n",
    "print(a.split(\",\")) # returns ['Hello', ' World!']\n",
    "\n",
    "a = \"Hello\"\n",
    "b = \"World\"\n",
    "c = a + \" \" + b\n",
    "print(c)\n",
    "\n",
    "quantity = 3\n",
    "itemno = 567\n",
    "price = 49.95\n",
    "myorder = \"I want to pay {2} dollars for {0} pieces of item {1}.\"\n",
    "print(myorder.format(quantity, itemno, price))\n",
    "\n",
    "txt = \"We are the so-called \\\"Vikings\\\" from the north.\"\n",
    "#A backslash followed by an 'x' and a hex number represents a hex value:\n",
    "txt = \"\\x48\\x65\\x6c\\x6c\\x6f\"\n",
    "print(txt) \n",
    "#A backslash followed by three integers will result in a octal value:\n",
    "txt = \"\\110\\145\\154\\154\\157\"\n",
    "print(txt) \n",
    "#This example erases one character (backspace):\n",
    "txt = \"Hello \\bWorld!\"\n",
    "print(txt) \n",
    "txt = \"Hello\\rWorld!\"\n",
    "print(txt) \n",
    "txt = \"Hello\\nWorld!\"\n",
    "print(txt) \n",
    "txt = \"This will insert one \\\\ (backslash).\"\n",
    "print(txt) \n",
    "txt = 'It\\'s alright.'\n",
    "print(txt) \n"
   ]
  },
  {
   "cell_type": "code",
   "execution_count": 1,
   "id": "d2939bf4",
   "metadata": {},
   "outputs": [
    {
     "name": "stdout",
     "output_type": "stream",
     "text": [
      "Enter Roll Number : 260160122002\n",
      "Enter Name : Dipanshu\n",
      "Enter Physics Marks : 85\n",
      "Enter Chemistry Marks : 87\n",
      "Enter Math Marks : 82\n",
      "Result : \n",
      "260160122002 Dipanshu 84\n",
      "result after adding grace marks...\n",
      "260160122002 Dipanshu 87\n"
     ]
    }
   ],
   "source": [
    "class Student:\n",
    "    def getStudentDetails(self):\n",
    "        self.rollno=input(\"Enter Roll Number : \")\n",
    "        self.name = input(\"Enter Name : \")\n",
    "        self.physics =int(input(\"Enter Physics Marks : \"))\n",
    "        self.chemistry = int(input(\"Enter Chemistry Marks : \"))\n",
    "        self.maths = int(input(\"Enter Math Marks : \"))\n",
    "\n",
    "    def printResult(self):\n",
    "        self.percentage = (int)( (self.physics + self.chemistry + self.maths) / 300 * 100 ); \n",
    "        print(self.rollno,self.name, self.percentage)\n",
    "\n",
    "S1=Student()\n",
    "S1.getStudentDetails()\n",
    "\n",
    "print(\"Result : \")\n",
    "S1.printResult()\n",
    "\n",
    "S1.physics += 9\n",
    "\n",
    "print(\"result after adding grace marks...\")\n",
    "S1.printResult()\n"
   ]
  },
  {
   "cell_type": "code",
   "execution_count": 7,
   "id": "f122b2cb",
   "metadata": {},
   "outputs": [
    {
     "name": "stdout",
     "output_type": "stream",
     "text": [
      "Current time is not greater than the threshold time.\n"
     ]
    }
   ],
   "source": [
    "import time\n",
    "\n",
    "# Get the current time in seconds since the epoch\n",
    "current_time = time.time()\n",
    "\n",
    "# Define a threshold time (e.g., 5 seconds from now)\n",
    "threshold_time = current_time + 5\n",
    "\n",
    "# Check if the current time is greater than the threshold time\n",
    "if current_time > threshold_time:\n",
    "    print(\"Current time is greater than the threshold time.\")\n",
    "else:\n",
    "    print(\"Current time is not greater than the threshold time.\")\n",
    "\n"
   ]
  },
  {
   "cell_type": "code",
   "execution_count": 8,
   "id": "f5ccba8f",
   "metadata": {},
   "outputs": [
    {
     "name": "stdout",
     "output_type": "stream",
     "text": [
      "I'll go to the sea.\n"
     ]
    }
   ],
   "source": [
    "# elif condition\n",
    "tomorrow = \"warm\"\n",
    "\n",
    "if tomorrow == \"warm\":\n",
    "    print(\"I'll go to the sea.\")\n",
    "elif tomorrow == \"very hot\":\n",
    "    print(\"I'll go to the forest.\")\n",
    "else:\n",
    "    print(\"I'll stay home.\")"
   ]
  },
  {
   "cell_type": "code",
   "execution_count": 6,
   "id": "6efa7d18",
   "metadata": {},
   "outputs": [
    {
     "name": "stdout",
     "output_type": "stream",
     "text": [
      "Good morning!\n"
     ]
    }
   ],
   "source": [
    "import time\n",
    "\n",
    "# Get the current time in seconds since the epoch\n",
    "current_time = time.localtime()\n",
    "\n",
    "# Extract the current hour from the current time\n",
    "current_hour = current_time.tm_hour\n",
    "\n",
    "# Define a time range for morning, afternoon, and evening\n",
    "morning_start = 6\n",
    "afternoon_start = 12\n",
    "evening_start = 18\n",
    "\n",
    "# Check the current time and perform actions based on it\n",
    "if morning_start <= current_hour < afternoon_start:\n",
    "    print(\"Good morning!\")\n",
    "elif afternoon_start <= current_hour < evening_start:\n",
    "    print(\"Good afternoon!\")\n",
    "else:\n",
    "    print(\"Good evening!\")"
   ]
  },
  {
   "cell_type": "code",
   "execution_count": 5,
   "id": "d9152391",
   "metadata": {},
   "outputs": [
    {
     "name": "stdout",
     "output_type": "stream",
     "text": [
      "Monthly Salary: $2400.00\n"
     ]
    }
   ],
   "source": [
    "# Define hourly wage and hours worked\n",
    "hourly_wage = 15.00\n",
    "hours_worked = 160  # Assuming full-time employment\n",
    "\n",
    "# Calculate the monthly salary\n",
    "monthly_salary = hourly_wage * hours_worked\n",
    "\n",
    "# Print the result\n",
    "print(f\"Monthly Salary: ${monthly_salary:.2f}\")\n"
   ]
  },
  {
   "cell_type": "code",
   "execution_count": 10,
   "id": "09bb29de",
   "metadata": {},
   "outputs": [
    {
     "name": "stdout",
     "output_type": "stream",
     "text": [
      "Enter the hourly wage: 2000\n",
      "Enter the number of hours worked in a month: 240\n",
      "Monthly Salary: $480000.00\n"
     ]
    }
   ],
   "source": [
    "# Get the hourly wage from the user\n",
    "hourly_wage = float(input(\"Enter the hourly wage: \"))\n",
    "\n",
    "# Get the number of hours worked in a month from the user\n",
    "hours_worked = float(input(\"Enter the number of hours worked in a month: \"))\n",
    "\n",
    "# Calculate the monthly salary\n",
    "monthly_salary = hourly_wage * hours_worked\n",
    "\n",
    "# Display the result\n",
    "print(f\"Monthly Salary: ${monthly_salary:.2f}\")\n"
   ]
  },
  {
   "cell_type": "code",
   "execution_count": 11,
   "id": "ff70c823",
   "metadata": {},
   "outputs": [
    {
     "name": "stdout",
     "output_type": "stream",
     "text": [
      "Enter the cost per unit of electricity (in cents or pence per kWh): 10\n",
      "Enter the total kWh consumed during the billing period: 7000\n",
      "Electricity Bill: $70000.00\n"
     ]
    }
   ],
   "source": [
    "# Get the cost per unit of electricity (in cents or pence per kWh) from the user\n",
    "cost_per_unit = float(input(\"Enter the cost per unit of electricity (in cents or pence per kWh): \"))\n",
    "\n",
    "# Get the total number of kilowatt-hours (kWh) consumed during the billing period from the user\n",
    "total_kWh_consumed = float(input(\"Enter the total kWh consumed during the billing period: \"))\n",
    "\n",
    "# Calculate the electricity bill\n",
    "electricity_bill = cost_per_unit * total_kWh_consumed\n",
    "\n",
    "# Display the result\n",
    "print(f\"Electricity Bill: ${electricity_bill:.2f}\")\n"
   ]
  },
  {
   "cell_type": "code",
   "execution_count": 12,
   "id": "f6d71b9e",
   "metadata": {},
   "outputs": [
    {
     "name": "stdout",
     "output_type": "stream",
     "text": [
      "Enter the number of units consumed: 5000\n",
      "Electricity Bill: $600.00\n"
     ]
    }
   ],
   "source": [
    "# Define a global variable for the rate per unit of electricity (in dollars)\n",
    "electricity_rate_per_unit = 0.12  # Replace this with the actual rate\n",
    "\n",
    "# Function to calculate the electricity bill\n",
    "def calculate_electricity_bill(units_consumed):\n",
    "    global electricity_rate_per_unit  # Access the global variable\n",
    "    \n",
    "    # Calculate the total bill amount\n",
    "    bill_amount = units_consumed * electricity_rate_per_unit\n",
    "    \n",
    "    return bill_amount\n",
    "\n",
    "# Get the number of units consumed from the user\n",
    "units_consumed = float(input(\"Enter the number of units consumed: \"))\n",
    "\n",
    "# Calculate the electricity bill using the function\n",
    "electricity_bill = calculate_electricity_bill(units_consumed)\n",
    "\n",
    "# Display the electricity bill\n",
    "print(f\"Electricity Bill: ${electricity_bill:.2f}\")\n"
   ]
  },
  {
   "cell_type": "code",
   "execution_count": 17,
   "id": "fd229fff",
   "metadata": {},
   "outputs": [
    {
     "name": "stdout",
     "output_type": "stream",
     "text": [
      "\n",
      "Library Management Calculator\n",
      "1. Add a book\n",
      "2. Remove a book\n",
      "3. List all books\n",
      "4. Quit\n",
      "Enter your choice (1/2/3/4): 4\n",
      "Exiting the library management calculator.\n"
     ]
    }
   ],
   "source": [
    "# Create an empty dictionary to store library data\n",
    "library = {}\n",
    "\n",
    "# Function to add a book to the library\n",
    "def add_book(title, author):\n",
    "    library[title] = author\n",
    "    print(f\"Added '{title}' by {author} to the library.\")\n",
    "\n",
    "# Function to remove a book from the library\n",
    "def remove_book(title):\n",
    "    if title in library:\n",
    "        author = library.pop(title)\n",
    "        print(f\"Removed '{title}' by {author} from the library.\")\n",
    "    else:\n",
    "        print(f\"'{title}' is not found in the library.\")\n",
    "\n",
    "# Function to list all books in the library\n",
    "def list_books():\n",
    "    if library:\n",
    "        print(\"Books in the library:\")\n",
    "        for title, author in library.items():\n",
    "            print(f\"'{title}' by {author}\")\n",
    "    else:\n",
    "        print(\"The library is empty.\")\n",
    "\n",
    "# Main loop for interacting with the library\n",
    "while True:\n",
    "    print(\"\\nLibrary Management Calculator\")\n",
    "    print(\"1. Add a book\")\n",
    "    print(\"2. Remove a book\")\n",
    "    print(\"3. List all books\")\n",
    "    print(\"4. Quit\")\n",
    "    \n",
    "    choice = input(\"Enter your choice (1/2/3/4): \")\n",
    "    \n",
    "    if choice == \"1\":\n",
    "        title = input(\"Enter the title of the book: \")\n",
    "        author = input(\"Enter the author of the book: \")\n",
    "        add_book(title, author)\n",
    "    elif choice == \"2\":\n",
    "        title = input(\"Enter the title of the book to remove: \")\n",
    "        remove_book(title)\n",
    "    elif choice == \"3\":\n",
    "        list_books()\n",
    "    elif choice == \"4\":\n",
    "        print(\"Exiting the library management calculator.\")\n",
    "        break\n",
    "    else:\n",
    "        \n",
    "        print(\"Invalid choice. Please enter 1, 2, 3, or 4.\")\n"
   ]
  },
  {
   "cell_type": "code",
   "execution_count": 18,
   "id": "7a634926",
   "metadata": {},
   "outputs": [
    {
     "name": "stdout",
     "output_type": "stream",
     "text": [
      "5\n",
      "[1, 2, 3, 4]\n",
      "[1, 4, 2, 3]\n",
      "[1, 3, 2, 4]\n",
      "2\n",
      "[1, 3, 4]\n",
      "2\n",
      "3\n",
      "[1, 1, 2, 3, 3, 4, 5, 5, 5, 6, 9]\n",
      "[5, 4, 3, 2, 1]\n"
     ]
    }
   ],
   "source": [
    "my_list = [1, 2, 3, 4, 5]\n",
    "length = len(my_list)\n",
    "print(length)  # Output: 5\n",
    "my_list = [1, 2, 3]\n",
    "my_list.append(4)\n",
    "print(my_list)  # Output: [1, 2, 3, 4]\n",
    "my_list = [1, 2, 3]\n",
    "my_list.insert(1, 4)\n",
    "print(my_list)  # Output: [1, 4, 2, 3]\n",
    "my_list = [1, 2, 3, 2, 4]\n",
    "my_list.remove(2)\n",
    "print(my_list)  # Output: [1, 3, 2, 4]\n",
    "my_list = [1, 2, 3, 4]\n",
    "item = my_list.pop(1)\n",
    "print(item)  # Output: 2\n",
    "print(my_list)  # Output: [1, 3, 4]\n",
    "my_list = [10, 20, 30, 40, 50]\n",
    "index = my_list.index(30)\n",
    "print(index)  # Output: 2\n",
    "my_list = [1, 2, 2, 3, 2, 4]\n",
    "count = my_list.count(2)\n",
    "print(count)  # Output: 3\n",
    "my_list = [3, 1, 4, 1, 5, 9, 2, 6, 5, 3, 5]\n",
    "my_list.sort()\n",
    "print(my_list)  # Output: [1, 1, 2, 3, 3, 4, 5, 5, 5, 6, 9]\n",
    "my_list = [1, 2, 3, 4, 5]\n",
    "my_list.reverse()\n",
    "print(my_list)  # Output: [5, 4, 3, 2, 1]\n"
   ]
  },
  {
   "cell_type": "code",
   "execution_count": 19,
   "id": "588e158f",
   "metadata": {},
   "outputs": [
    {
     "name": "stdout",
     "output_type": "stream",
     "text": [
      "1\n",
      "2\n",
      "3\n",
      "4\n",
      "5\n",
      "6\n",
      "7\n",
      "8\n",
      "9\n",
      "10\n"
     ]
    }
   ],
   "source": [
    "for i in range(1, 11):\n",
    "    print(i)"
   ]
  },
  {
   "cell_type": "code",
   "execution_count": 21,
   "id": "5807280c",
   "metadata": {},
   "outputs": [
    {
     "name": "stdout",
     "output_type": "stream",
     "text": [
      "2 4 6 8 10 12 14 16 18 20 "
     ]
    }
   ],
   "source": [
    "# Initialize a variable to store the count of even numbers\n",
    "count = 0\n",
    "\n",
    "# Initialize a variable to store the current even number\n",
    "even_number = 2\n",
    "\n",
    "# Loop to print the first 10 even numbers\n",
    "while count < 10:\n",
    "    print(even_number, end=\" \")\n",
    "    even_number += 2  # Increment by 2 to get the next even number\n",
    "    count += 1\n",
    "\n",
    "# Output: 2 4 6 8 10 12 14 16 18 20\n"
   ]
  },
  {
   "cell_type": "code",
   "execution_count": 22,
   "id": "de7aa795",
   "metadata": {},
   "outputs": [
    {
     "name": "stdout",
     "output_type": "stream",
     "text": [
      "1\n",
      "3\n",
      "5\n",
      "7\n",
      "9\n",
      "11\n",
      "13\n",
      "15\n",
      "17\n",
      "19\n"
     ]
    }
   ],
   "source": [
    "count = 0  # Initialize a counter for the number of odd numbers\n",
    "number = 1  # Start with the first positive integer\n",
    "\n",
    "while count < 10:\n",
    "    if number % 2 != 0:\n",
    "        print(number)\n",
    "        count += 1\n",
    "    number += 1\n"
   ]
  },
  {
   "cell_type": "code",
   "execution_count": 23,
   "id": "ce61a7b1",
   "metadata": {},
   "outputs": [
    {
     "name": "stdout",
     "output_type": "stream",
     "text": [
      "The total of all elements in the list is: 150\n"
     ]
    }
   ],
   "source": [
    "# Create a list of numbers\n",
    "numbers = [10, 20, 30, 40, 50]\n",
    "\n",
    "# Calculate the sum of all elements in the list\n",
    "total = sum(numbers)\n",
    "\n",
    "# Print the total\n",
    "print(\"The total of all elements in the list is:\", total)\n"
   ]
  },
  {
   "cell_type": "code",
   "execution_count": 24,
   "id": "627cbe6a",
   "metadata": {},
   "outputs": [
    {
     "name": "stdout",
     "output_type": "stream",
     "text": [
      "Sum of numbers at even positions: 160\n"
     ]
    }
   ],
   "source": [
    "# Create a list of numbers\n",
    "numbers = [10, 20, 30, 40, 50, 60, 70]\n",
    "\n",
    "# Initialize a variable to store the sum of numbers at even positions\n",
    "even_position_sum = 0\n",
    "\n",
    "# Iterate through the list and add numbers at even positions\n",
    "for i in range(len(numbers)):\n",
    "    if i % 2 == 0:  # Check if the index is even\n",
    "        even_position_sum += numbers[i]\n",
    "\n",
    "# Print the sum of numbers at even positions\n",
    "print(\"Sum of numbers at even positions:\", even_position_sum)\n"
   ]
  },
  {
   "cell_type": "code",
   "execution_count": 25,
   "id": "111c79e6",
   "metadata": {},
   "outputs": [
    {
     "name": "stdout",
     "output_type": "stream",
     "text": [
      "Sum of numbers at even positions: 160\n"
     ]
    }
   ],
   "source": [
    "# Create a list of numbers\n",
    "numbers = [10, 20, 30, 40, 50, 60, 70]\n",
    "\n",
    "# Initialize a variable to store the sum of numbers at even positions\n",
    "even_position_sum = 0\n",
    "\n",
    "# Iterate through the list and add numbers at even positions\n",
    "for i in range(len(numbers)):\n",
    "    if i % 2 == 0:  # Check if the index is even\n",
    "        even_position_sum += numbers[i]\n",
    "\n",
    "# Print the sum of numbers at even positions\n",
    "print(\"Sum of numbers at even positions:\", even_position_sum)\n"
   ]
  },
  {
   "cell_type": "code",
   "execution_count": 26,
   "id": "1f301c52",
   "metadata": {},
   "outputs": [
    {
     "name": "stdout",
     "output_type": "stream",
     "text": [
      "Sum of numbers at odd index positions: 120\n"
     ]
    }
   ],
   "source": [
    "# Create a list of numbers\n",
    "numbers = [10, 20, 30, 40, 50, 60]\n",
    "\n",
    "# Initialize a variable to store the sum of numbers at odd index positions\n",
    "odd_index_sum = 0\n",
    "\n",
    "# Iterate through the list and add numbers at odd index positions\n",
    "for i in range(len(numbers)):\n",
    "    if i % 2 == 1:  # Check if the index is odd (0-based index)\n",
    "        odd_index_sum += numbers[i]\n",
    "\n",
    "# Print the sum of numbers at odd index positions\n",
    "print(\"Sum of numbers at odd index positions:\", odd_index_sum)\n"
   ]
  },
  {
   "cell_type": "code",
   "execution_count": 27,
   "id": "737e8e08",
   "metadata": {},
   "outputs": [
    {
     "name": "stdout",
     "output_type": "stream",
     "text": [
      "Sum of odd numbers: 75\n"
     ]
    }
   ],
   "source": [
    "# Create a list of numbers\n",
    "numbers = [10, 15, 20, 25, 30, 35]\n",
    "\n",
    "# Initialize a variable to store the sum of odd numbers\n",
    "odd_sum = 0\n",
    "\n",
    "# Iterate through the list and add only the odd numbers\n",
    "for num in numbers:\n",
    "    if num % 2 != 0:\n",
    "        odd_sum += num\n",
    "\n",
    "# Print the sum of odd numbers\n",
    "print(\"Sum of odd numbers:\", odd_sum)\n"
   ]
  },
  {
   "cell_type": "code",
   "execution_count": 28,
   "id": "f31c8c85",
   "metadata": {},
   "outputs": [
    {
     "name": "stdout",
     "output_type": "stream",
     "text": [
      "Sum of numbers at even index positions: 90\n"
     ]
    }
   ],
   "source": [
    "# Create a list of numbers\n",
    "numbers = [10, 20, 30, 40, 50, 60]\n",
    "\n",
    "# Initialize a variable to store the sum of numbers at even index positions\n",
    "even_index_sum = 0\n",
    "\n",
    "# Iterate through the list and add numbers at even index positions\n",
    "for i in range(len(numbers)):\n",
    "    if i % 2 == 0:  # Check if the index is even (0-based index)\n",
    "        even_index_sum += numbers[i]\n",
    "\n",
    "# Print the sum of numbers at even index positions\n",
    "print(\"Sum of numbers at even index positions:\", even_index_sum)\n"
   ]
  },
  {
   "cell_type": "code",
   "execution_count": 29,
   "id": "d9fe30a4",
   "metadata": {},
   "outputs": [
    {
     "name": "stdout",
     "output_type": "stream",
     "text": [
      "Average of the numbers in the list: 30.0\n"
     ]
    }
   ],
   "source": [
    "# Create a list of numbers\n",
    "numbers = [10, 20, 30, 40, 50]\n",
    "\n",
    "# Calculate the sum of all numbers in the list\n",
    "total_sum = sum(numbers)\n",
    "\n",
    "# Calculate the average by dividing the sum by the count of numbers\n",
    "average = total_sum / len(numbers)\n",
    "\n",
    "# Print the average\n",
    "print(\"Average of the numbers in the list:\", average)\n"
   ]
  },
  {
   "cell_type": "code",
   "execution_count": null,
   "id": "68530adb",
   "metadata": {},
   "outputs": [],
   "source": [
    "def print_floyds_triangle(n):\n",
    "    num = 1\n",
    "    for i in range(1, n + 1):\n",
    "        for j in range(i):\n",
    "            print(num, end=\" \")\n",
    "            num += 1\n",
    "        print()  # Move to the next line after each row\n",
    "\n",
    "n = int(input(\"Enter the number of rows for Floyd's Triangle: \"))\n",
    "print_floyds_triangle(n)\n"
   ]
  },
  {
   "cell_type": "code",
   "execution_count": null,
   "id": "2aad30df",
   "metadata": {},
   "outputs": [],
   "source": [
    "my_tuple = (1, 2, 3)\n",
    "another_tuple = tuple([4, 5, 6])\n",
    "my_tuple = (1, 2, 3)\n",
    "print(my_tuple[0])  # Output: 1\n",
    "tuple1 = (1, 2, 3)\n",
    "tuple2 = (4, 5, 6)\n",
    "result_tuple = tuple1 + tuple2\n",
    "my_tuple = (1, 2)\n",
    "repeated_tuple = my_tuple * 3\n",
    "my_tuple = (1, 2, 3)\n",
    "length = len(my_tuple)\n",
    "my_tuple = (1, 2, 3)\n",
    "is_present = 2 in my_tuple\n",
    "my_tuple = (1, 2, 2, 3, 2, 4)\n",
    "count = my_tuple.count(2)\n",
    "my_tuple = (1, 2, 3, 4, 5)\n",
    "index = my_tuple.index(3)\n",
    "my_tuple = (1, 2, 3)\n",
    "for element in my_tuple:\n",
    "    print(element)\n"
   ]
  },
  {
   "cell_type": "code",
   "execution_count": null,
   "id": "75ed1f02",
   "metadata": {},
   "outputs": [],
   "source": [
    "num = 10\n",
    "if num % 2 == 0:\n",
    "    print(\"The number is even.\")\n",
    "else:\n",
    "    print(\"The number is odd.\")\n"
   ]
  },
  {
   "cell_type": "code",
   "execution_count": 6,
   "id": "f8b9eb17",
   "metadata": {},
   "outputs": [
    {
     "name": "stdout",
     "output_type": "stream",
     "text": [
      "false\n"
     ]
    }
   ],
   "source": [
    "age = 20\n",
    "if age > 20:\n",
    "    print('true')\n",
    "else:\n",
    "    print('false')"
   ]
  },
  {
   "cell_type": "code",
   "execution_count": 14,
   "id": "45bf02d3",
   "metadata": {},
   "outputs": [
    {
     "name": "stdout",
     "output_type": "stream",
     "text": [
      "False\n"
     ]
    }
   ],
   "source": [
    "age = 20\n",
    "if age > 19:\n",
    "    print('False')\n",
    "else:\n",
    "    print('True')\n"
   ]
  },
  {
   "cell_type": "code",
   "execution_count": 17,
   "id": "15bdad79",
   "metadata": {},
   "outputs": [
    {
     "name": "stdout",
     "output_type": "stream",
     "text": [
      "x is greater than 5 but not greater than 10\n"
     ]
    }
   ],
   "source": [
    "x = 7\n",
    "if x > 10:\n",
    "    print(\"x is greater than 10\")\n",
    "elif x > 5:\n",
    "    print(\"x is greater than 5 but not greater than 10\")\n",
    "else:\n",
    "    print(\"x is not greater than 5\")\n"
   ]
  },
  {
   "cell_type": "code",
   "execution_count": 26,
   "id": "6f665500",
   "metadata": {},
   "outputs": [
    {
     "name": "stdout",
     "output_type": "stream",
     "text": [
      "true\n"
     ]
    }
   ],
   "source": [
    "age = 18\n",
    "if x > 20:\n",
    "    print ('true')\n",
    "elif x < 15:\n",
    "    print ('true')\n",
    "else:\n",
    "    print ('false')\n",
    "    "
   ]
  },
  {
   "cell_type": "code",
   "execution_count": 27,
   "id": "33499942",
   "metadata": {},
   "outputs": [
    {
     "name": "stdout",
     "output_type": "stream",
     "text": [
      "Enter first number: 20\n",
      "Enter second number: 25\n",
      "The sum is 45.0\n"
     ]
    }
   ],
   "source": [
    "print('The sum is %.1f' %(float(input('Enter first number: ')) + float(input('Enter second number: ')))) \n"
   ]
  },
  {
   "cell_type": "code",
   "execution_count": 33,
   "id": "f63bb731",
   "metadata": {},
   "outputs": [
    {
     "ename": "SyntaxError",
     "evalue": "unterminated string literal (detected at line 1) (9476366.py, line 1)",
     "output_type": "error",
     "traceback": [
      "\u001b[1;36m  Cell \u001b[1;32mIn[33], line 1\u001b[1;36m\u001b[0m\n\u001b[1;33m    num1 = input('Enter first number: ‘)\u001b[0m\n\u001b[1;37m                 ^\u001b[0m\n\u001b[1;31mSyntaxError\u001b[0m\u001b[1;31m:\u001b[0m unterminated string literal (detected at line 1)\n"
     ]
    }
   ],
   "source": [
    "num1 = input('Enter first number: ‘) \n",
    "num2 = input('Enter second number: ‘) \n",
    "sum = float(num1) + float(num2)\n",
    "print('The sum of {0} and {1} is {2}'.format(num1, num2, sum)) \n"
   ]
  },
  {
   "cell_type": "code",
   "execution_count": null,
   "id": "e6bc4eff",
   "metadata": {},
   "outputs": [],
   "source": []
  }
 ],
 "metadata": {
  "kernelspec": {
   "display_name": "Python 3 (ipykernel)",
   "language": "python",
   "name": "python3"
  },
  "language_info": {
   "codemirror_mode": {
    "name": "ipython",
    "version": 3
   },
   "file_extension": ".py",
   "mimetype": "text/x-python",
   "name": "python",
   "nbconvert_exporter": "python",
   "pygments_lexer": "ipython3",
   "version": "3.11.4"
  }
 },
 "nbformat": 4,
 "nbformat_minor": 5
}
