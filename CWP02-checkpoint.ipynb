{
 "cells": [
  {
   "cell_type": "code",
   "execution_count": 6,
   "id": "b0b6b983",
   "metadata": {},
   "outputs": [
    {
     "name": "stdout",
     "output_type": "stream",
     "text": [
      "Enter a number: 25\n",
      "The square root of 25.000 is 5.000\n"
     ]
    }
   ],
   "source": [
    "num = float(input(\"Enter a number: \"))\n",
    "num_sqrt = num ** 0.5\n",
    "print('The square root of %0.3f is %0.3f' % (num, num_sqrt))\n"
   ]
  },
  {
   "cell_type": "code",
   "execution_count": 8,
   "id": "8ba1b5db",
   "metadata": {},
   "outputs": [
    {
     "name": "stdout",
     "output_type": "stream",
     "text": [
      "Enter a number: 65\n",
      "The square root of 65.000 is 8.062\n"
     ]
    }
   ],
   "source": [
    "num = float(input(\"Enter a number: \"))\n",
    "num_sqrt = num ** 0.5\n",
    "print('The square root of %0.3f is %0.3f' % (num, num_sqrt))"
   ]
  },
  {
   "cell_type": "code",
   "execution_count": null,
   "id": "77a9e6f0",
   "metadata": {},
   "outputs": [],
   "source": [
    "s = (a + b + c)/2\n",
    "area = (s*(s-a)*(s-b)*(s-c))**0.5\n",
    "print(\"The area of the triangle is:\", area)"
   ]
  },
  {
   "cell_type": "code",
   "execution_count": 12,
   "id": "5a8aca03",
   "metadata": {},
   "outputs": [
    {
     "name": "stdout",
     "output_type": "stream",
     "text": [
      "The value of x after swapping: 20\n",
      "The value of y after swapping: 10\n"
     ]
    }
   ],
   "source": [
    "x = 10\n",
    "y = 20\n",
    "\n",
    "# Swapping values\n",
    "temp = x\n",
    "x = y\n",
    "y = temp\n",
    "\n",
    "print('The value of x after swapping: {}'.format(x))\n",
    "print('The value of y after swapping: {}'.format(y))\n"
   ]
  },
  {
   "cell_type": "code",
   "execution_count": 15,
   "id": "40077cc7",
   "metadata": {},
   "outputs": [
    {
     "name": "stdout",
     "output_type": "stream",
     "text": [
      "Random Integer: 26\n",
      "Random Float: 0.18190424205421118\n"
     ]
    }
   ],
   "source": [
    "import random\n",
    "random_integer = random.randint(1, 100)\n",
    "print(\"Random Integer:\", random_integer)\n",
    "random_float = random.random()\n",
    "print(\"Random Float:\", random_float)"
   ]
  },
  {
   "cell_type": "code",
   "execution_count": 13,
   "id": "ae1a0704",
   "metadata": {},
   "outputs": [
    {
     "name": "stdout",
     "output_type": "stream",
     "text": [
      "Enter the distance in kilometers: 25\n",
      "25.0 kilometers is approximately 15.534275000000001 miles\n"
     ]
    }
   ],
   "source": [
    "kilometers = float(input(\"Enter the distance in kilometers: \"))\n",
    "miles = kilometers * 0.621371\n",
    "print(f\"{kilometers} kilometers is approximately {miles} miles\")"
   ]
  },
  {
   "cell_type": "code",
   "execution_count": 14,
   "id": "a242450e",
   "metadata": {},
   "outputs": [
    {
     "name": "stdout",
     "output_type": "stream",
     "text": [
      "Enter a number: 45\n",
      "The sum is 45.000000\n"
     ]
    }
   ],
   "source": [
    "number = float(input(\"Enter a number: \"))\n",
    "print(\"The sum is %1f\" % number)\n"
   ]
  },
  {
   "cell_type": "code",
   "execution_count": null,
   "id": "6f93b07b",
   "metadata": {},
   "outputs": [],
   "source": [
    "num = flot(input(\"Enter a number:\"))\n",
    "if num > 0:\n",
    "    print(\"positive number\")"
   ]
  },
  {
   "cell_type": "code",
   "execution_count": null,
   "id": "6d6aa877",
   "metadata": {},
   "outputs": [],
   "source": [
    "num = flot(input(\"enter a number\"))"
   ]
  },
  {
   "cell_type": "code",
   "execution_count": null,
   "id": "e8c9099a",
   "metadata": {},
   "outputs": [],
   "source": [
    "num = int(input(\"Enter a number\"))\n",
    "if num % 2 )==:"
   ]
  },
  {
   "cell_type": "code",
   "execution_count": null,
   "id": "9b3bb446",
   "metadata": {},
   "outputs": [],
   "source": [
    "num = int(input (\"enter anumber \"))\n",
    "if (num %2)==0:\n",
    "    \n",
    "  "
   ]
  },
  {
   "cell_type": "code",
   "execution_count": null,
   "id": "008897be",
   "metadata": {},
   "outputs": [],
   "source": [
    "if num >+num2 and num1>=num3:\n",
    "    largerst +num1\n",
    "    elif num2 >=num1 and num2 >= num3:\n",
    "        largerst =num2\n",
    "        else\n",
    "        largest = num2\n",
    "        largest = num3\n",
    "        print the largest numbers is largest"
   ]
  },
  {
   "cell_type": "code",
   "execution_count": 16,
   "id": "af6121ac",
   "metadata": {},
   "outputs": [
    {
     "ename": "NameError",
     "evalue": "name 'num1' is not defined",
     "output_type": "error",
     "traceback": [
      "\u001b[1;31m---------------------------------------------------------------------------\u001b[0m",
      "\u001b[1;31mNameError\u001b[0m                                 Traceback (most recent call last)",
      "Cell \u001b[1;32mIn[16], line 1\u001b[0m\n\u001b[1;32m----> 1\u001b[0m \u001b[38;5;28;01mif\u001b[39;00m num1 \u001b[38;5;241m>\u001b[39m\u001b[38;5;241m=\u001b[39m num2 \u001b[38;5;129;01mand\u001b[39;00m num1 \u001b[38;5;241m>\u001b[39m\u001b[38;5;241m=\u001b[39m num3:\n\u001b[0;32m      2\u001b[0m     largest \u001b[38;5;241m=\u001b[39m num1\n\u001b[0;32m      3\u001b[0m \u001b[38;5;28;01melif\u001b[39;00m num2 \u001b[38;5;241m>\u001b[39m\u001b[38;5;241m=\u001b[39m num1 \u001b[38;5;129;01mand\u001b[39;00m num2 \u001b[38;5;241m>\u001b[39m\u001b[38;5;241m=\u001b[39m num3:\n",
      "\u001b[1;31mNameError\u001b[0m: name 'num1' is not defined"
     ]
    }
   ],
   "source": [
    "if num1 >= num2 and num1 >= num3:\n",
    "    largest = num1\n",
    "elif num2 >= num1 and num2 >= num3:\n",
    "    largest = num2\n",
    "else:\n",
    "    largest = num3\n",
    "\n",
    "if largest is not None:\n",
    "    print(\"The largest number is\", largest)\n",
    "else:\n",
    "    print(\"All three numbers are equal.\")"
   ]
  },
  {
   "cell_type": "code",
   "execution_count": 18,
   "id": "dbc9391d",
   "metadata": {},
   "outputs": [
    {
     "ename": "IndentationError",
     "evalue": "unindent does not match any outer indentation level (<tokenize>, line 4)",
     "output_type": "error",
     "traceback": [
      "\u001b[1;36m  File \u001b[1;32m<tokenize>:4\u001b[1;36m\u001b[0m\n\u001b[1;33m    else\u001b[0m\n\u001b[1;37m    ^\u001b[0m\n\u001b[1;31mIndentationError\u001b[0m\u001b[1;31m:\u001b[0m unindent does not match any outer indentation level\n"
     ]
    }
   ],
   "source": [
    "def factors(x):\n",
    "    if x == 1:\n",
    "        return 1\n",
    "     else\n",
    "        rutern(x*factorial(x-1))\n",
    "        result = factorial(num)\n",
    "        print(\"The factorial of, num \"is\" result)"
   ]
  },
  {
   "cell_type": "code",
   "execution_count": 20,
   "id": "2ef279d5",
   "metadata": {},
   "outputs": [
    {
     "name": "stdout",
     "output_type": "stream",
     "text": [
      "The factorial of 65.0 is 8.247650592082472e+90\n"
     ]
    }
   ],
   "source": [
    "def factorial(x):\n",
    "    if x == 1:\n",
    "        return 1\n",
    "    else:\n",
    "        return x * factorial(x - 1)\n",
    "    \n",
    "result = factorial(num)\n",
    "print(\"The factorial of\", num, \"is\", result)\n"
   ]
  },
  {
   "cell_type": "code",
   "execution_count": null,
   "id": "69e282dc",
   "metadata": {},
   "outputs": [],
   "source": [
    "reuslt = list(map(lambda X:2 ** x range(terms)))\n",
    "print(\"The total terms are\",terms)\n",
    "for i in range"
   ]
  },
  {
   "cell_type": "code",
   "execution_count": null,
   "id": "e3597838",
   "metadata": {},
   "outputs": [],
   "source": [
    "terms = 5  # Define the number of terms\n",
    "\n",
    "result = list(map(lambda x: 2 ** x, range(terms)))\n",
    "print(\"The total terms are\", terms)\n",
    "\n",
    "for i in range(terms):\n",
    "    print(f\"Term {i + 1}: {result[i]}\")\n"
   ]
  },
  {
   "cell_type": "code",
   "execution_count": 19,
   "id": "0a05a6f0",
   "metadata": {},
   "outputs": [
    {
     "ename": "SyntaxError",
     "evalue": "invalid syntax (1661431878.py, line 1)",
     "output_type": "error",
     "traceback": [
      "\u001b[1;36m  Cell \u001b[1;32mIn[19], line 1\u001b[1;36m\u001b[0m\n\u001b[1;33m    my list = [12,65,54,39,102,339,221]\u001b[0m\n\u001b[1;37m       ^\u001b[0m\n\u001b[1;31mSyntaxError\u001b[0m\u001b[1;31m:\u001b[0m invalid syntax\n"
     ]
    }
   ],
   "source": [
    "my list = [12,65,54,39,102,339,221]\n",
    "reuslt = list(filter(lambda x: (x % 13 ==0),my_list))\n",
    "print (\"numbers disisible by 13 are\"results)"
   ]
  },
  {
   "cell_type": "code",
   "execution_count": null,
   "id": "16183b77",
   "metadata": {},
   "outputs": [],
   "source": [
    "my_list = [12, 65, 54, 39, 102, 339, 221]\n",
    "result = list(filter(lambda x: (x % 13 == 0), my_list))\n",
    "print(\"Numbers divisible by 13 are\", result)\n"
   ]
  },
  {
   "cell_type": "code",
   "execution_count": 21,
   "id": "5f183554",
   "metadata": {},
   "outputs": [
    {
     "ename": "SyntaxError",
     "evalue": "unterminated string literal (detected at line 2) (3910889668.py, line 2)",
     "output_type": "error",
     "traceback": [
      "\u001b[1;36m  Cell \u001b[1;32mIn[21], line 2\u001b[1;36m\u001b[0m\n\u001b[1;33m    print(\"the decimal value of\", dec 'is'\")\u001b[0m\n\u001b[1;37m                                          ^\u001b[0m\n\u001b[1;31mSyntaxError\u001b[0m\u001b[1;31m:\u001b[0m unterminated string literal (detected at line 2)\n"
     ]
    }
   ],
   "source": [
    "dec = 344\n",
    "print(\"the decimal value of\" dec 'is'\")\n",
    "print(bin(dec),\" in binary\")\n",
    "print oct(dec)in octal\")\n",
    "print hex dec in hexadecimal.\")"
   ]
  },
  {
   "cell_type": "code",
   "execution_count": 22,
   "id": "17132a3c",
   "metadata": {},
   "outputs": [
    {
     "name": "stdout",
     "output_type": "stream",
     "text": [
      "The decimal value of 344 is\n",
      "0b101011000 in binary\n",
      "0o530 in octal\n",
      "0x158 in hexadecimal\n"
     ]
    }
   ],
   "source": [
    "dec = 344\n",
    "print(\"The decimal value of\", dec, \"is\")\n",
    "print(bin(dec), \"in binary\")\n",
    "print(oct(dec), \"in octal\")\n",
    "print(hex(dec), \"in hexadecimal\")\n"
   ]
  },
  {
   "cell_type": "code",
   "execution_count": 25,
   "id": "d6b8c03e",
   "metadata": {},
   "outputs": [
    {
     "name": "stdout",
     "output_type": "stream",
     "text": [
      "2 * 1 = 2\n",
      "2 * 2 = 4\n",
      "2 * 3 = 6\n",
      "2 * 4 = 8\n",
      "2 * 5 = 10\n",
      "2 * 6 = 12\n",
      "2 * 7 = 14\n",
      "2 * 8 = 16\n",
      "2 * 9 = 18\n",
      "2 * 10 = 20\n"
     ]
    }
   ],
   "source": [
    "max_number = 10  # You can change this to the desired maximum number\n",
    "\n",
    "for i in range(1, max_number + 1):\n",
    "    result = 2 * i\n",
    "    print(f\"2 * {i} = {result}\")\n",
    "\n",
    "    \n"
   ]
  },
  {
   "cell_type": "code",
   "execution_count": 26,
   "id": "9c42d43b",
   "metadata": {},
   "outputs": [
    {
     "ename": "NameError",
     "evalue": "name 'month' is not defined",
     "output_type": "error",
     "traceback": [
      "\u001b[1;31m---------------------------------------------------------------------------\u001b[0m",
      "\u001b[1;31mNameError\u001b[0m                                 Traceback (most recent call last)",
      "Cell \u001b[1;32mIn[26], line 2\u001b[0m\n\u001b[0;32m      1\u001b[0m \u001b[38;5;28;01mimport\u001b[39;00m \u001b[38;5;21;01mcalendar\u001b[39;00m\n\u001b[1;32m----> 2\u001b[0m \u001b[38;5;28mprint\u001b[39m(calendar,month(yy,mm))\n",
      "\u001b[1;31mNameError\u001b[0m: name 'month' is not defined"
     ]
    }
   ],
   "source": [
    "import calendar\n",
    "print(calendar,month(yy,mm))"
   ]
  },
  {
   "cell_type": "code",
   "execution_count": 27,
   "id": "5460d035",
   "metadata": {},
   "outputs": [
    {
     "name": "stdout",
     "output_type": "stream",
     "text": [
      "    October 2023\n",
      "Mo Tu We Th Fr Sa Su\n",
      "                   1\n",
      " 2  3  4  5  6  7  8\n",
      " 9 10 11 12 13 14 15\n",
      "16 17 18 19 20 21 22\n",
      "23 24 25 26 27 28 29\n",
      "30 31\n",
      "\n"
     ]
    }
   ],
   "source": [
    "import calendar\n",
    "\n",
    "\n",
    "year = 2023\n",
    "month = 10  # October\n",
    "\n",
    "\n",
    "cal = calendar.month(year, month)\n",
    "print(cal)\n"
   ]
  },
  {
   "cell_type": "code",
   "execution_count": null,
   "id": "79fbe45b",
   "metadata": {},
   "outputs": [],
   "source": [
    "sting"
   ]
  }
 ],
 "metadata": {
  "kernelspec": {
   "display_name": "Python 3 (ipykernel)",
   "language": "python",
   "name": "python3"
  },
  "language_info": {
   "codemirror_mode": {
    "name": "ipython",
    "version": 3
   },
   "file_extension": ".py",
   "mimetype": "text/x-python",
   "name": "python",
   "nbconvert_exporter": "python",
   "pygments_lexer": "ipython3",
   "version": "3.11.4"
  }
 },
 "nbformat": 4,
 "nbformat_minor": 5
}
