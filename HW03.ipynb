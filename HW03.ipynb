{
 "cells": [
  {
   "cell_type": "code",
   "execution_count": 13,
   "id": "23070e6f",
   "metadata": {},
   "outputs": [
    {
     "ename": "NameError",
     "evalue": "name 'iterable1' is not defined",
     "output_type": "error",
     "traceback": [
      "\u001b[1;31m---------------------------------------------------------------------------\u001b[0m",
      "\u001b[1;31mNameError\u001b[0m                                 Traceback (most recent call last)",
      "Cell \u001b[1;32mIn[13], line 1\u001b[0m\n\u001b[1;32m----> 1\u001b[0m \u001b[38;5;28mzip\u001b[39m(iterable1, iterable2, iterable3)\n",
      "\u001b[1;31mNameError\u001b[0m: name 'iterable1' is not defined"
     ]
    }
   ],
   "source": [
    "zip(iterable1, iterable2, iterable3)"
   ]
  },
  {
   "cell_type": "code",
   "execution_count": 14,
   "id": "869cf2c1",
   "metadata": {},
   "outputs": [
    {
     "name": "stdout",
     "output_type": "stream",
     "text": [
      "('Dipanshu', 85)\n",
      "('Aman', 92)\n",
      "('Vishal', 78)\n"
     ]
    }
   ],
   "source": [
    "names = [\"Dipanshu\", \"Aman\", \"Vishal\"]\n",
    "scores = [85, 92, 78]\n",
    "\n",
    "zipped_data = zip(names, scores)\n",
    "\n",
    "for data in zipped_data:\n",
    "    print(data)\n"
   ]
  },
  {
   "cell_type": "code",
   "execution_count": 15,
   "id": "fe5a0730",
   "metadata": {},
   "outputs": [
    {
     "name": "stdout",
     "output_type": "stream",
     "text": [
      "('Vishal', 85)\n",
      "('Aman', 92)\n",
      "('Dipanshu', 78)\n"
     ]
    }
   ],
   "source": [
    "names = [\"Vishal\", \"Aman\", \"Dipanshu\"]\n",
    "scores = [85, 92, 78]\n",
    "\n",
    "zipped_data = zip(names, scores)\n",
    "\n",
    "for data in zipped_data:\n",
    "    print(data)"
   ]
  },
  {
   "cell_type": "code",
   "execution_count": 16,
   "id": "cef9ec39",
   "metadata": {},
   "outputs": [
    {
     "name": "stdout",
     "output_type": "stream",
     "text": [
      "('Vishal', 85)\n",
      "('Aman', 95)\n",
      "('Dipanshu', 75)\n"
     ]
    }
   ],
   "source": [
    "name = [\"vishal\", \"Aman\", \"Dipanshu\"]\n",
    "scores = [85, 95, 75]\n",
    "zipped_data = zip(names, scores)\n",
    "for data in zipped_data:\n",
    "    print(data)"
   ]
  },
  {
   "cell_type": "code",
   "execution_count": 17,
   "id": "002d72d4",
   "metadata": {},
   "outputs": [],
   "source": [
    "zipped_list = list(zip(names, scores))\n",
    "zipped_tuple = tuple(zip(names, scores))\n"
   ]
  },
  {
   "cell_type": "code",
   "execution_count": 18,
   "id": "5bd4e004",
   "metadata": {},
   "outputs": [
    {
     "name": "stdout",
     "output_type": "stream",
     "text": [
      "Dipanshu: Total Score = 263\n",
      "Aman: Total Score = 272\n",
      "Vishal: Total Score = 236\n"
     ]
    }
   ],
   "source": [
    "students = [\"Dipanshu\", \"Aman\", \"Vishal\"]\n",
    "math_scores = [85, 92, 78]\n",
    "english_scores = [90, 85, 76]\n",
    "science_scores = [88, 95, 82]\n",
    "\n",
    "total_scores = []\n",
    "for student, math, english, science in zip(students, math_scores, english_scores, science_scores):\n",
    "    total_score = math + english + science\n",
    "    total_scores.append((student, total_score))\n",
    "\n",
    "for student, total_score in total_scores:\n",
    "    print(f\"{student}: Total Score = {total_score}\")\n"
   ]
  },
  {
   "cell_type": "code",
   "execution_count": 19,
   "id": "d392c463",
   "metadata": {},
   "outputs": [
    {
     "name": "stdout",
     "output_type": "stream",
     "text": [
      "Dipanshu: Total Score = 263\n",
      "Aman: Total Score = 267\n",
      "Vishal: Total Score = 234\n"
     ]
    }
   ],
   "source": [
    "students = [\"Dipanshu\", \"Aman\", \"Vishal\"]\n",
    "math_scores = [85, 92, 78]\n",
    "english_scores = [90, 80, 76]\n",
    "science_scores = [88, 95, 80]\n",
    "\n",
    "total_scores = []\n",
    "for student, math, english, science in zip(students, math_scores, english_scores, science_scores):\n",
    "    total_score = math + english + science\n",
    "    total_scores.append((student, total_score))\n",
    "\n",
    "for student, total_score in total_scores:\n",
    "    print(f\"{student}: Total Score = {total_score}\")\n"
   ]
  },
  {
   "cell_type": "code",
   "execution_count": 20,
   "id": "e7e65e29",
   "metadata": {},
   "outputs": [
    {
     "name": "stdout",
     "output_type": "stream",
     "text": [
      "{1, 3}\n"
     ]
    }
   ],
   "source": [
    "s ={1, 2, 3}\n",
    "s.discard(2)\n",
    "print(s)"
   ]
  },
  {
   "cell_type": "code",
   "execution_count": 21,
   "id": "2e9d13ed",
   "metadata": {},
   "outputs": [
    {
     "name": "stdout",
     "output_type": "stream",
     "text": [
      "{1, 2, 4, 5}\n"
     ]
    }
   ],
   "source": [
    "my_set = {1, 2, 3, 4, 5}\n",
    "my_set.discard(3)\n",
    "my_set.discard(6)\n",
    "print(my_set)\n"
   ]
  },
  {
   "cell_type": "code",
   "execution_count": 22,
   "id": "d239d6e7",
   "metadata": {},
   "outputs": [
    {
     "name": "stdout",
     "output_type": "stream",
     "text": [
      "{1, 2}\n"
     ]
    }
   ],
   "source": [
    "a = {1, 2, 3}\n",
    "b = {3, 4, 5}\n",
    "c = a.difference(b)\n",
    "print(c)\n"
   ]
  },
  {
   "cell_type": "code",
   "execution_count": 23,
   "id": "f6c23cb3",
   "metadata": {},
   "outputs": [
    {
     "name": "stdout",
     "output_type": "stream",
     "text": [
      "Difference using difference method: {1, 2}\n",
      "Difference using - operator: {1, 2}\n"
     ]
    }
   ],
   "source": [
    "set1 = {1, 2, 3, 4, 5}\n",
    "set2 = {3, 4, 5, 6, 7}\n",
    "difference_method = set1.difference(set2)\n",
    "print(\"Difference using difference method:\", difference_method)\n",
    "difference_operator = set1 - set2\n",
    "print(\"Difference using - operator:\", difference_operator)\n"
   ]
  },
  {
   "cell_type": "code",
   "execution_count": 24,
   "id": "1650de96",
   "metadata": {},
   "outputs": [
    {
     "name": "stdout",
     "output_type": "stream",
     "text": [
      "Students only in Class A: {'Alice', 'Bob'}\n",
      "Students only in Class B: {'Eve', 'Frank'}\n"
     ]
    }
   ],
   "source": [
    "class_a_students = {\"Alice\", \"Bob\", \"Charlie\", \"David\"}\n",
    "class_b_students = {\"Charlie\", \"David\", \"Eve\", \"Frank\"}\n",
    "\n",
    "students_only_in_class_a = class_a_students - class_b_students\n",
    "students_only_in_class_b = class_b_students - class_a_students\n",
    "\n",
    "print(\"Students only in Class A:\", students_only_in_class_a)\n",
    "print(\"Students only in Class B:\", students_only_in_class_b)\n"
   ]
  },
  {
   "cell_type": "code",
   "execution_count": 25,
   "id": "c032edc7",
   "metadata": {},
   "outputs": [
    {
     "name": "stdout",
     "output_type": "stream",
     "text": [
      "True\n",
      "False\n"
     ]
    }
   ],
   "source": [
    "a = {1, 2, 3}\n",
    "b = {1, 2, 3, 4, 5}\n",
    "c = {1, 2, 4}\n",
    "print(a.issubset(b))\n",
    "print(a.issubset(c))"
   ]
  },
  {
   "cell_type": "code",
   "execution_count": 26,
   "id": "3b85e96e",
   "metadata": {},
   "outputs": [
    {
     "name": "stdout",
     "output_type": "stream",
     "text": [
      "Is set1 a subset of set2? True\n"
     ]
    }
   ],
   "source": [
    "set1 = {1, 2, 3}\n",
    "set2 = {1, 2, 3, 4, 5}\n",
    "\n",
    "is_subset = set1.issubset(set2)\n",
    "\n",
    "print(\"Is set1 a subset of set2?\", is_subset)\n"
   ]
  },
  {
   "cell_type": "code",
   "execution_count": 27,
   "id": "c1d71122",
   "metadata": {},
   "outputs": [
    {
     "name": "stdout",
     "output_type": "stream",
     "text": [
      "{1, 2, 3, 4, 5}\n"
     ]
    }
   ],
   "source": [
    "a = {1, 2, 3, 4}\n",
    "a.add(5)\n",
    "print(a)\n"
   ]
  },
  {
   "cell_type": "code",
   "execution_count": 28,
   "id": "dbfc5d36",
   "metadata": {},
   "outputs": [
    {
     "name": "stdout",
     "output_type": "stream",
     "text": [
      "{1, 2, 3, 4, 5}\n"
     ]
    }
   ],
   "source": [
    "my_set = {1, 2, 3}\n",
    "my_set.update([3, 4, 5])\n",
    "print(my_set)\n"
   ]
  },
  {
   "cell_type": "code",
   "execution_count": 29,
   "id": "72539ec3",
   "metadata": {},
   "outputs": [
    {
     "name": "stdout",
     "output_type": "stream",
     "text": [
      "set()\n"
     ]
    }
   ],
   "source": [
    "s = {1, 2, 3}\n",
    "s.clear()\n",
    "print(s)"
   ]
  },
  {
   "cell_type": "code",
   "execution_count": 30,
   "id": "9977cda1",
   "metadata": {},
   "outputs": [
    {
     "name": "stdout",
     "output_type": "stream",
     "text": [
      "set()\n"
     ]
    }
   ],
   "source": [
    "my_set = {1, 2, 3, 4, 5}\n",
    "\n",
    "my_set.clear()\n",
    "\n",
    "print(my_set)\n"
   ]
  },
  {
   "cell_type": "code",
   "execution_count": 31,
   "id": "0e55d21a",
   "metadata": {},
   "outputs": [
    {
     "name": "stdout",
     "output_type": "stream",
     "text": [
      "{1, 2, 3, 4}\n"
     ]
    }
   ],
   "source": [
    "a = {1, 2, 3, 4}\n",
    "b = a.copy()\n",
    "print(b)"
   ]
  },
  {
   "cell_type": "code",
   "execution_count": 32,
   "id": "5b4a5eb3",
   "metadata": {},
   "outputs": [
    {
     "name": "stdout",
     "output_type": "stream",
     "text": [
      "Original Set: {1, 2, 3, 4, 5}\n",
      "Copied Set: {1, 2, 3, 4, 5}\n"
     ]
    }
   ],
   "source": [
    "original_set = {1, 2, 3, 4, 5}\n",
    "copied_set = original_set.copy()\n",
    "\n",
    "print(\"Original Set:\", original_set)\n",
    "print(\"Copied Set:\", copied_set)\n"
   ]
  },
  {
   "cell_type": "code",
   "execution_count": 34,
   "id": "1de104dc",
   "metadata": {},
   "outputs": [
    {
     "name": "stdout",
     "output_type": "stream",
     "text": [
      "{1, 2, 3, 4, 5}\n"
     ]
    }
   ],
   "source": [
    "a = {1, 2, 3}\n",
    "b = {3, 4, 5}\n",
    "c = a.union(b)\n",
    "print(c)"
   ]
  },
  {
   "cell_type": "code",
   "execution_count": 35,
   "id": "f3d2d35d",
   "metadata": {},
   "outputs": [
    {
     "name": "stdout",
     "output_type": "stream",
     "text": [
      "Union of set1 and set2: {1, 2, 3, 4, 5, 6}\n"
     ]
    }
   ],
   "source": [
    "set1 = {1, 2, 3, 4}\n",
    "set2 = {3, 4, 5, 6}\n",
    "\n",
    "union_set = set1.union(set2)\n",
    "\n",
    "print(\"Union of set1 and set2:\", union_set)\n"
   ]
  },
  {
   "cell_type": "code",
   "execution_count": 37,
   "id": "48082a4f",
   "metadata": {},
   "outputs": [
    {
     "name": "stdout",
     "output_type": "stream",
     "text": [
      "1\n",
      "{2, 3}\n"
     ]
    }
   ],
   "source": [
    "a = {1, 2, 3}\n",
    "x = a.pop()\n",
    "print(x)\n",
    "print(a)\n"
   ]
  },
  {
   "cell_type": "code",
   "execution_count": 38,
   "id": "5077348d",
   "metadata": {},
   "outputs": [
    {
     "name": "stdout",
     "output_type": "stream",
     "text": [
      "Popped Element: 1\n",
      "Updated Set: {2, 3, 4, 5}\n"
     ]
    }
   ],
   "source": [
    "my_set = {1, 2, 3, 4, 5}\n",
    "\n",
    "popped_element = my_set.pop()\n",
    "\n",
    "print(\"Popped Element:\", popped_element)\n",
    "print(\"Updated Set:\", my_set)\n"
   ]
  },
  {
   "cell_type": "code",
   "execution_count": 39,
   "id": "5ec75f5f",
   "metadata": {},
   "outputs": [
    {
     "name": "stdout",
     "output_type": "stream",
     "text": [
      "{3}\n"
     ]
    }
   ],
   "source": [
    "a = {1, 2, 3}\n",
    "b = {3, 4, 5}\n",
    "c = a.intersection(b)\n",
    "print(c)"
   ]
  },
  {
   "cell_type": "code",
   "execution_count": 40,
   "id": "d90db21c",
   "metadata": {},
   "outputs": [
    {
     "name": "stdout",
     "output_type": "stream",
     "text": [
      "Intersection of set1 and set2: {3, 4}\n"
     ]
    }
   ],
   "source": [
    "set1 = {1, 2, 3, 4}\n",
    "set2 = {3, 4, 5, 6}\n",
    "\n",
    "intersection_set = set1 & set2\n",
    "\n",
    "print(\"Intersection of set1 and set2:\", intersection_set)\n"
   ]
  },
  {
   "cell_type": "code",
   "execution_count": 41,
   "id": "99223528",
   "metadata": {},
   "outputs": [
    {
     "name": "stdout",
     "output_type": "stream",
     "text": [
      "Updated Set: {1, 2, 4, 5}\n"
     ]
    }
   ],
   "source": [
    "my_set = {1, 2, 3, 4, 5}\n",
    "my_set.remove(3)\n",
    "print(\"Updated Set:\", my_set)\n"
   ]
  },
  {
   "cell_type": "code",
   "execution_count": 42,
   "id": "b51faa9f",
   "metadata": {},
   "outputs": [
    {
     "name": "stdout",
     "output_type": "stream",
     "text": [
      "{1, 2, 3, 4}\n"
     ]
    }
   ],
   "source": [
    "my_set = {1, 2, 3}\n",
    "my_set.add(4)\n",
    "print(my_set)\n"
   ]
  },
  {
   "cell_type": "code",
   "execution_count": 43,
   "id": "2546e1e1",
   "metadata": {},
   "outputs": [
    {
     "name": "stdout",
     "output_type": "stream",
     "text": [
      "Updated Set: {1, 2, 4, 5}\n"
     ]
    }
   ],
   "source": [
    "my_set = {1, 2, 3, 4, 5}\n",
    "my_set.discard(3)\n",
    "print(\"Updated Set:\", my_set)\n"
   ]
  },
  {
   "cell_type": "code",
   "execution_count": 44,
   "id": "85d2b731",
   "metadata": {},
   "outputs": [
    {
     "name": "stdout",
     "output_type": "stream",
     "text": [
      "Cleared Set: set()\n"
     ]
    }
   ],
   "source": [
    "my_set = {1, 2, 3, 4, 5}\n",
    "my_set.clear()\n",
    "print(\"Cleared Set:\", my_set)\n"
   ]
  },
  {
   "cell_type": "code",
   "execution_count": 45,
   "id": "26241a0a",
   "metadata": {},
   "outputs": [
    {
     "name": "stdout",
     "output_type": "stream",
     "text": [
      "Union of set1 and set2: {1, 2, 3, 4, 5, 6}\n"
     ]
    }
   ],
   "source": [
    "set1 = {1, 2, 3, 4}\n",
    "set2 = {3, 4, 5, 6}\n",
    "union_set = set1 | set2\n",
    "print(\"Union of set1 and set2:\", union_set)\n"
   ]
  },
  {
   "cell_type": "code",
   "execution_count": 46,
   "id": "68ca527c",
   "metadata": {},
   "outputs": [
    {
     "name": "stdout",
     "output_type": "stream",
     "text": [
      "Popped Element: 1\n",
      "Updated Set: {2, 3, 4, 5}\n"
     ]
    }
   ],
   "source": [
    "my_set = {1, 2, 3, 4, 5}\n",
    "popped_element = my_set.pop()\n",
    "print(\"Popped Element:\", popped_element)\n",
    "print(\"Updated Set:\", my_set)\n"
   ]
  },
  {
   "cell_type": "code",
   "execution_count": 47,
   "id": "7bc24a00",
   "metadata": {},
   "outputs": [
    {
     "name": "stdout",
     "output_type": "stream",
     "text": [
      "Difference between set1 and set2: {1, 2}\n"
     ]
    }
   ],
   "source": [
    "set1 = {1, 2, 3, 4, 5}\n",
    "set2 = {3, 4, 5, 6, 7}\n",
    "difference_set = set1.difference(set2)\n",
    "print(\"Difference between set1 and set2:\", difference_set)\n"
   ]
  },
  {
   "cell_type": "code",
   "execution_count": 48,
   "id": "99fbf996",
   "metadata": {},
   "outputs": [
    {
     "name": "stdout",
     "output_type": "stream",
     "text": [
      "Intersection of set1 and set2: {3, 4, 5}\n"
     ]
    }
   ],
   "source": [
    "set1 = {1, 2, 3, 4, 5}\n",
    "set2 = {3, 4, 5, 6, 7}\n",
    "intersection_set = set1.intersection(set2)\n",
    "print(\"Intersection of set1 and set2:\", intersection_set)\n"
   ]
  },
  {
   "cell_type": "code",
   "execution_count": 49,
   "id": "476257c0",
   "metadata": {},
   "outputs": [
    {
     "name": "stdout",
     "output_type": "stream",
     "text": [
      "Is set1 a subset of set2? True\n"
     ]
    }
   ],
   "source": [
    "set1 = {1, 2, 3}\n",
    "set2 = {1, 2, 3, 4, 5}\n",
    "is_subset = set1.issubset(set2)\n",
    "print(\"Is set1 a subset of set2?\", is_subset)\n"
   ]
  },
  {
   "cell_type": "code",
   "execution_count": 50,
   "id": "9c6711aa",
   "metadata": {},
   "outputs": [
    {
     "name": "stdout",
     "output_type": "stream",
     "text": [
      "Is set1 a superset of set2? True\n"
     ]
    }
   ],
   "source": [
    "set1 = {1, 2, 3, 4, 5}\n",
    "set2 = {1, 2, 3}\n",
    "is_superset = set1.issuperset(set2)\n",
    "print(\"Is set1 a superset of set2?\", is_superset)\n"
   ]
  },
  {
   "cell_type": "code",
   "execution_count": null,
   "id": "1fcc152f",
   "metadata": {},
   "outputs": [],
   "source": []
  }
 ],
 "metadata": {
  "kernelspec": {
   "display_name": "Python 3 (ipykernel)",
   "language": "python",
   "name": "python3"
  },
  "language_info": {
   "codemirror_mode": {
    "name": "ipython",
    "version": 3
   },
   "file_extension": ".py",
   "mimetype": "text/x-python",
   "name": "python",
   "nbconvert_exporter": "python",
   "pygments_lexer": "ipython3",
   "version": "3.11.4"
  }
 },
 "nbformat": 4,
 "nbformat_minor": 5
}
