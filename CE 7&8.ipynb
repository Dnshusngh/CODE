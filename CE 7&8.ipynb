{
 "cells": [
  {
   "cell_type": "code",
   "execution_count": null,
   "id": "39c9ce52",
   "metadata": {},
   "outputs": [],
   "source": [
    "import pandas as pd\n",
    "x = pd.Series()\n",
    "print(x)\n"
   ]
  },
  {
   "cell_type": "code",
   "execution_count": null,
   "id": "7caf9d82",
   "metadata": {},
   "outputs": [],
   "source": [
    "import pandas as pd  \n",
    "import numpy as np  \n",
    "info = np.array(['P','a','n','d','a','s'])  \n",
    "a = pd.Series(info)  \n",
    "print(a)   \n"
   ]
  },
  {
   "cell_type": "code",
   "execution_count": null,
   "id": "c241a0e9",
   "metadata": {},
   "outputs": [],
   "source": [
    "import pandas as pd  \n",
    "x = pd.Series([1,2,3],index = ['a','b','c'])  \n",
    "#retrieve the first element  \n",
    "print (x[0])  \n"
   ]
  },
  {
   "cell_type": "code",
   "execution_count": null,
   "id": "a16c6e7b",
   "metadata": {},
   "outputs": [],
   "source": [
    "import numpy as np   \n",
    "import pandas as pd   \n",
    "x=pd.Series(data=[2,4,6,8])   \n",
    "y=pd.Series(data=[11.2,18.6,22.5], index=['a','b','c'])   \n",
    "print(x.index)   \n",
    "print(x.values)   \n",
    "print(y.index)   \n",
    "print(y.values)  \n"
   ]
  },
  {
   "cell_type": "code",
   "execution_count": null,
   "id": "21da002d",
   "metadata": {},
   "outputs": [],
   "source": [
    "import numpy as np   \n",
    "import pandas as pd   \n",
    "a=pd.Series(data=[1,2,3,4])   \n",
    "b=pd.Series(data=[4.9,8.2,5.6],index=['x','y','z'])   \n",
    "print(a.shape)   \n",
    "print(b.shape)  \n"
   ]
  },
  {
   "cell_type": "code",
   "execution_count": null,
   "id": "940e0b4f",
   "metadata": {},
   "outputs": [],
   "source": [
    "\n",
    "import numpy as np   \n",
    "import pandas as pd   \n",
    "a=pd.Series(data=[1,2,3,np.NaN])   \n",
    "b=pd.Series(data=[4.9,8.2,5.6],index=['x','y','z'])   \n",
    "c=pd.Series()   \n",
    "print(a.empty,b.empty,c.empty)   \n",
    "print(a.hasnans,b.hasnans,c.hasnans)   \n",
    "print(len(a),len(b))   \n",
    "print(a.count( ),b.count( ))  \n"
   ]
  },
  {
   "cell_type": "code",
   "execution_count": null,
   "id": "5b022880",
   "metadata": {},
   "outputs": [],
   "source": [
    "# importing the pandas library  \n",
    "import pandas as pd  \n",
    "df = pd.DataFrame()  \n",
    "print (df)  \n"
   ]
  },
  {
   "cell_type": "code",
   "execution_count": null,
   "id": "106cca9c",
   "metadata": {},
   "outputs": [],
   "source": [
    "# importing the pandas library  \n",
    "import pandas as pd  \n",
    "# a list of strings  \n",
    "x = ['Python', 'Pandas']  "
   ]
  },
  {
   "cell_type": "code",
   "execution_count": null,
   "id": "279f69aa",
   "metadata": {},
   "outputs": [],
   "source": [
    "# Calling DataFrame constructor on list  \n",
    "df = pd.DataFrame(x)  \n",
    "print(df)  \n"
   ]
  },
  {
   "cell_type": "code",
   "execution_count": null,
   "id": "1e863bd5",
   "metadata": {},
   "outputs": [],
   "source": [
    "# importing the pandas library  \n",
    "import pandas as pd  \n",
    "info = {'ID' :[101, 102, 103],'Department' :['B.Sc','B.Tech','M.Tech',]}  \n",
    "df = pd.DataFrame(info)  \n",
    "print (df)  \n"
   ]
  },
  {
   "cell_type": "code",
   "execution_count": null,
   "id": "1f466bc3",
   "metadata": {},
   "outputs": [],
   "source": [
    "# importing the pandas library  \n",
    "import pandas as pd  \n",
    "  \n",
    "info = {'one' : pd.Series([1, 2, 3, 4, 5, 6], index=['a', 'b', 'c', 'd', 'e', 'f']),  \n",
    "   'two' : pd.Series([1, 2, 3, 4, 5, 6, 7, 8], index=['a', 'b', 'c', 'd', 'e', 'f', 'g', 'h'])}  \n",
    "  \n",
    "d1 = pd.DataFrame(info)  \n",
    "print (d1 ['one'])  \n"
   ]
  },
  {
   "cell_type": "code",
   "execution_count": null,
   "id": "ce16acf2",
   "metadata": {},
   "outputs": [],
   "source": [
    "# importing the pandas library  \n",
    "import pandas as pd  \n",
    "info = {'one' : pd.Series([1, 2, 3, 4, 5], index=['a', 'b', 'c', 'd', 'e']), 'two' : pd.Series([1, 2, 3, 4, 5, 6], index=['a', 'b', 'c', 'd', 'e', 'f'])}  \n",
    "df = pd.DataFrame(info)  \n"
   ]
  },
  {
   "cell_type": "code",
   "execution_count": null,
   "id": "acdcc098",
   "metadata": {},
   "outputs": [],
   "source": [
    "# Add a new column to an existing DataFrame object   \n",
    "print (\"Add new column by passing series\")  \n",
    "df['three']=pd.Series([20,40,60],index=['a','b','c'])  \n",
    "print (df)  \n",
    "print (\"Add new column using existing DataFrame columns\")  \n",
    "df['four']=df['one']+df['three']  \n",
    "print (df)  \n"
   ]
  },
  {
   "cell_type": "code",
   "execution_count": null,
   "id": "c482a14f",
   "metadata": {},
   "outputs": [],
   "source": [
    "# importing the pandas library  \n",
    "import pandas as pd  \n",
    "info = {'one' : pd.Series([1, 2], index= ['a', 'b']), 'two' : pd.Series([1, 2, 3], index=['a', 'b', 'c'])}  \n",
    "df = pd.DataFrame(info)  \n",
    "print (\"The DataFrame:\")  \n",
    "print (df)  \n"
   ]
  },
  {
   "cell_type": "code",
   "execution_count": null,
   "id": "a093e61e",
   "metadata": {},
   "outputs": [],
   "source": [
    "# using del function  \n",
    "print (\"Delete the first column:\")  \n",
    "del df['one']  \n",
    "print (df) "
   ]
  },
  {
   "cell_type": "code",
   "execution_count": null,
   "id": "320bd5e7",
   "metadata": {},
   "outputs": [],
   "source": [
    "# using pop function  \n",
    "print (\"Delete the another column:\")  \n",
    "df.pop('two')  \n",
    "print (df)  \n"
   ]
  },
  {
   "cell_type": "code",
   "execution_count": null,
   "id": "befa690f",
   "metadata": {},
   "outputs": [],
   "source": [
    "# importing the pandas library  \n",
    "import pandas as pd  \n",
    "  \n",
    "info = {'one' : pd.Series([1, 2, 3, 4, 5], index=['a', 'b', 'c', 'd', 'e']),   \n",
    "   'two' : pd.Series([1, 2, 3, 4, 5, 6], index=['a', 'b', 'c', 'd', 'e', 'f'])}  \n",
    "  \n",
    "df = pd.DataFrame(info)  \n",
    "print (df.loc['b'])  \n"
   ]
  },
  {
   "cell_type": "code",
   "execution_count": null,
   "id": "c630b175",
   "metadata": {},
   "outputs": [],
   "source": [
    "# importing the pandas library  \n",
    "import pandas as pd  \n",
    "info = {'one' : pd.Series([1, 2, 3, 4, 5], index=['a', 'b', 'c', 'd', 'e']),   \n",
    "   'two' : pd.Series([1, 2, 3, 4, 5, 6], index=['a', 'b', 'c', 'd', 'e', 'f'])}  \n",
    "df = pd.DataFrame(info)  \n",
    "print (df[2:5])  \n"
   ]
  },
  {
   "cell_type": "code",
   "execution_count": null,
   "id": "3fd86a64",
   "metadata": {},
   "outputs": [],
   "source": [
    "# importing the pandas library  \n",
    "import pandas as pd  \n",
    "d = pd.DataFrame([[7, 8], [9, 10]], columns = ['x','y'])  \n",
    "d2 = pd.DataFrame([[11, 12], [13, 14]], columns = ['x','y'])  \n",
    "d = d.append(d2)  \n",
    "print (d)  \n"
   ]
  },
  {
   "cell_type": "code",
   "execution_count": null,
   "id": "54d438c3",
   "metadata": {},
   "outputs": [],
   "source": [
    "# importing the pandas library  \n",
    "import pandas as pd  \n",
    "  \n",
    "a_info = pd.DataFrame([[4, 5], [6, 7]], columns = ['x','y'])  \n",
    "b_info = pd.DataFrame([[8, 9], [10, 11]], columns = ['x','y'])  \n",
    "  \n",
    "a_info = a_info.append(b_info)  \n",
    "  \n"
   ]
  },
  {
   "cell_type": "code",
   "execution_count": null,
   "id": "a3b261e8",
   "metadata": {},
   "outputs": [],
   "source": [
    "import pandas as pd   \n",
    "# Create first Dataframe using dictionary   \n",
    "info1 = pd.DataFrame({\"x\":[25,15,12,19],   \n",
    "                    \"y\":[47, 24, 17, 29]})     \n",
    "# Create second Dataframe using dictionary   \n",
    "Info2 = pd.DataFrame({\"x\":[25, 15, 12],   \n",
    "                    \"y\":[47, 24, 17],    \n",
    "                    \"z\":[38, 12, 45]})   \n",
    "# append info2 at end in info1   \n",
    "info.append(info2, ignore_index = True)   \n"
   ]
  },
  {
   "cell_type": "code",
   "execution_count": null,
   "id": "250f0a3a",
   "metadata": {},
   "outputs": [],
   "source": [
    "#ploting our canvas  \n",
    "plt.plot([1,2,3],[4,5,1])  \n",
    "#display the graph  \n",
    "plt.show()  \n"
   ]
  },
  {
   "cell_type": "code",
   "execution_count": null,
   "id": "0bbc3057",
   "metadata": {},
   "outputs": [],
   "source": [
    "from matplotlib import pyplot as plt    \n",
    "x = [5, 2, 7]  \n",
    "y = [1, 10, 4]  \n",
    "plt.plot(x, y)  \n",
    "plt.title('Line graph')  \n",
    "plt.ylabel('Y axis')  \n",
    "plt.xlabel('X axis')  \n",
    "plt.show()  \n"
   ]
  },
  {
   "cell_type": "code",
   "execution_count": null,
   "id": "ff3dfa2f",
   "metadata": {},
   "outputs": [],
   "source": [
    "from matplotlib import pyplot as plt  \n",
    "plt.plot([1, 2, 3, 4,5], [1, 4, 9, 16,25], 'ro')  \n",
    "plt.axis([0, 6, 0, 20])  \n",
    "plt.show()  \n"
   ]
  },
  {
   "cell_type": "code",
   "execution_count": null,
   "id": "709b74e6",
   "metadata": {},
   "outputs": [],
   "source": [
    "from matplotlib import pyplot  \n",
    "names = ['Ab', ’Cd', ’Ef']  \n",
    "marks= [87,50,98]  \n",
    "plt.figure(figsize=(9,3))  \n",
    "plt.subplot(131)  \n",
    "plt.bar(names, marks)  \n",
    "plt.subplot(132)  \n",
    "plt.scatter(names, marks)  \n",
    "plt.subplot(133)  \n",
    "plt.plot(names, marks)  \n",
    "plt.suptitle('Categorical Plotting')  \n",
    "plt.show()  \n"
   ]
  },
  {
   "cell_type": "code",
   "execution_count": null,
   "id": "14046d51",
   "metadata": {},
   "outputs": [],
   "source": [
    "style.use('ggplot')  \n",
    "x = [16, 8, 10]  \n",
    "y = [8, 16, 6]  \n",
    "x2 = [8, 15, 11]  \n",
    "y2 = [6, 15, 7]  \n",
    "plt.plot(x, y, 'r', label='line one', linewidth=5)  \n",
    "plt.plot(x2, y2, 'm', label='line two', linewidth=5)  \n",
    "plt.title('Epic Info')  \n",
    "fig = plt.figure()  \n",
    "plt.ylabel('Y axis')  \n",
    "plt.xlabel('X axis')  \n",
    "plt.legend()  \n",
    "plt.grid(True, color='k')  \n",
    "plt.show() \n"
   ]
  },
  {
   "cell_type": "code",
   "execution_count": null,
   "id": "b44b8716",
   "metadata": {},
   "outputs": [],
   "source": [
    "import numpy as np  \n",
    "import matplotlib.pyplot as plt  \n",
    "  \n",
    "fig = plt.figure()  \n",
    "ax = plt.axes()  \n",
    "  \n",
    "x = np.linspace(0, 10, 1000)  \n",
    "ax.plot(x, np.sin(x))  \n"
   ]
  },
  {
   "cell_type": "code",
   "execution_count": null,
   "id": "3f7d8ded",
   "metadata": {},
   "outputs": [],
   "source": [
    "import numpy as np  \n",
    "import matplotlib.pyplot as plt  \n",
    "fig = plt.figure()  \n",
    "ax = plt.axes()  \n",
    "x = np.linspace(0, 10, 1000)  \n",
    "ax.plot(x, np.sin(x))  \n",
    "import matplotlib.pyplot as plt  \n",
    "import numpy as np  \n",
    "x = np.arange(0.0, 2, 0.01)  \n",
    "y1 = np.sin(2 * np.pi * x)  \n",
    "y2 = 1.2 * np.sin(4 * np.pi * x)  \n",
    "fig, ax = plt.subplots(1, sharex=True)  \n",
    "ax.plot(x, y1, x, y2, color='black')  \n",
    "ax.fill_between(x, y1, y2, where=y2 >= y1, facecolor='blue', interpolate=True)  \n",
    "ax.fill_between(x, y1, y2, where=y2 <= y1, facecolor='red', interpolate=True)  \n",
    "ax.set_title('fill between where')  \n"
   ]
  },
  {
   "cell_type": "code",
   "execution_count": null,
   "id": "50d568bb",
   "metadata": {},
   "outputs": [],
   "source": [
    "from matplotlib import pyplot as plt  \n",
    "players = ['Virat','Rohit','Shikhar','Hardik']  \n",
    "runs = [51,87,45,67]  \n",
    "plt.barh(players,runs, color = 'green')  \n",
    "plt.title('Score Card')  \n",
    "plt.xlabel('Players')  \n",
    "plt.ylabel('Runs')  \n",
    "plt.show()  \n"
   ]
  },
  {
   "cell_type": "code",
   "execution_count": null,
   "id": "9cbaeedb",
   "metadata": {},
   "outputs": [],
   "source": [
    "from matplotlib import pyplot as plt  \n",
    "from matplotlib import style  \n",
    "style.use('ggplot')  \n",
    "x = [5,8,10]  \n",
    "y = [12,16,6]  \n",
    "x2 = [6,9,11]  \n",
    "y2 = [7,15,7]  \n",
    "plt.bar(x, y, color = 'y', align='center')  \n",
    "plt.bar(x2, y2, color='c', align='center')  \n",
    "plt.title('Information')  \n",
    "plt.ylabel('Y axis')  \n",
    "plt.xlabel('X axis')  \n"
   ]
  },
  {
   "cell_type": "code",
   "execution_count": null,
   "id": "4ef8e641",
   "metadata": {},
   "outputs": [],
   "source": [
    "from matplotlib import pyplot as plt  \n",
    "import numpy as np  \n",
    "countries = ['USA', 'India', 'China', 'Russia', 'Germany']  \n",
    "bronzes = np.array([38, 17, 26, 19, 15])  \n",
    "silvers = np.array([37, 23, 18, 18, 10])  \n",
    "golds = np.array([46, 27, 26, 19, 17])  \n",
    "ind = [x for x, _ in enumerate(countries)]  \n",
    "plt.bar(ind, golds, width=0.5, label='golds', color='gold', bottom=silvers+bronzes)\n",
    "plt.bar(ind, silvers, width=0.5, label='silvers', color='silver', bottom=bronzes)  \n",
    "plt.bar(ind, bronzes, width=0.5, label='bronzes', color='#CD853F')  \n",
    "plt.xticks(ind, countries)  \n",
    "plt.ylabel(\"Medals\")  \n",
    "plt.xlabel(\"Countries\")  \n",
    "plt.legend(loc=\"upper right\")  \n",
    "plt.title(\"2019 Olympics Top Scorers\")  \n"
   ]
  },
  {
   "cell_type": "code",
   "execution_count": null,
   "id": "b8c253d8",
   "metadata": {},
   "outputs": [],
   "source": [
    "# Pie chart, where the slices will be ordered and plotted counter-clockwise:  \n",
    "Players = 'Rohit', 'Virat', 'Shikhar', 'Yuvraj'  \n",
    "Runs = [45, 30, 15, 10]  \n",
    "explode = (0.1, 0, 0, 0)  # it \"explode\" the 1st slice   \n",
    "fig1, ax1 = plt.subplots()  \n",
    "ax1.pie(Runs, explode=explode, labels=Players, autopct='%1.1f%%',  \n",
    "        shadow=True, startangle=90)  \n",
    "ax1.axis('equal')  # Equal aspect ratio ensures that pie is drawn as a circle.  \n",
    "plt.show()  \n"
   ]
  },
  {
   "cell_type": "code",
   "execution_count": null,
   "id": "524aa424",
   "metadata": {},
   "outputs": [],
   "source": [
    "from matplotlib import pyplot as plt  \n",
    "from matplotlib import pyplot as plt  \n",
    "population_age = [21,53,60,49,25,27,30,42,40,1,2,102,95,8,15,105,70,65,55,70,75,60,52,44,43,42,45]  \n",
    "bins = [0,10,20,30,40,50,60,70,80,90,100]  \n",
    "plt.hist(population_age, bins, histtype='bar', rwidth=0.8)  \n",
    "plt.xlabel('age groups')  \n",
    "plt.ylabel('Number of people')  \n",
    "plt.title('Histogram')  \n",
    "plt.show()  \n"
   ]
  },
  {
   "cell_type": "code",
   "execution_count": null,
   "id": "9be46fa1",
   "metadata": {},
   "outputs": [],
   "source": [
    "# Importing Numpy Library  \n",
    "import numpy as np  \n",
    "plt.style.use('fivethirtyeight')  \n",
    "mu = 50  \n",
    "sigma = 7  \n",
    "x = np.random.normal(mu, sigma, size=200)  \n",
    "fig, ax = plt.subplots()  \n",
    "ax.hist(x, 20)  \n",
    "ax.set_title('Historgram')  \n",
    "ax.set_xlabel('bin range')  \n",
    "ax.set_ylabel('frequency')  \n",
    "fig.tight_layout()  \n",
    "plt.show()  \n"
   ]
  },
  {
   "cell_type": "code",
   "execution_count": null,
   "id": "6963825b",
   "metadata": {},
   "outputs": [],
   "source": [
    "import matplotlib.pyplot as plt  \n",
    "x = [2, 2.5, 3, 3.5, 4.5, 4.7, 5.0]  \n",
    "y = [7.5, 8, 8.5, 9, 9.5, 10, 10.5]  \n",
    "  \n",
    "x1 = [9, 8.5, 9, 9.5, 10, 10.5, 12]  \n",
    "y1 = [3, 3.5, 4.7, 4, 4.5, 5, 5.2]  \n",
    "plt.scatter(x, y, label='high income low saving', color='g')  \n",
    "plt.scatter(x1, y1, label='low income high savings', color='r')  \n",
    "plt.xlabel('saving*100')  \n",
    "plt.ylabel('income*1000')  \n",
    "plt.title('Scatter Plot')  \n",
    "plt.legend()  \n",
    "plt.show()  \n"
   ]
  },
  {
   "cell_type": "code",
   "execution_count": null,
   "id": "89761316",
   "metadata": {},
   "outputs": [],
   "source": [
    "from mpl_toolkits import mplot3d  \n",
    "import numpy as np  \n",
    "import matplotlib.pyplot as plt  \n",
    "height = np.array([100,110,87,85,65,80,96,75,42,59,54,63,95,71,86])  \n",
    "weight = np.array([105,123,84,85,78,95,69,42,87,91,63,83,75,41,80])  \n",
    "scatter(height,weight)  \n",
    "fig = plt.figure()  \n",
    "ax = plt.axes(projection='3d')  \n",
    "# This is used to plot 3D scatter  \n",
    "ax.scatter3D(height,weight)  \n",
    "plt.title(\"3D Scatter Plot\")  \n",
    "plt.xlabel(\"Height\")  \n",
    "plt.ylabel(\"Weight\")  \n",
    "plt.title(\"3D Scatter Plot\")  \n",
    "plt.xlabel(\"Height\")  \n",
    "plt.ylabel(\"Weight\")  \n",
    "plt.show()  \n"
   ]
  },
  {
   "cell_type": "code",
   "execution_count": null,
   "id": "e82067d6",
   "metadata": {},
   "outputs": [],
   "source": [
    "import matplotlib as mpl  \n",
    "from mpl_toolkits.mplot3d import Axes3D  \n",
    "import numpy as np  \n",
    "import matplotlib.pyplot as plt  \n",
    "mpl.rcParams['legend.fontsize'] = 10  \n",
    "fig = plt.figure()  \n",
    "ax = fig.gca(projection='3d')  \n",
    "theta1 = np.linspace(-4 * np.pi, 4 * np.pi, 100)  \n",
    "z = np.linspace(-2, 2, 100)  \n",
    "r = z**2 + 1  \n",
    "x = r * np.sin(theta1)  \n",
    "y = r * np.cos(theta1)  \n",
    "ax.plot3D(x, y, z, label='parametric curve', color = 'red')  \n",
    "ax.legend()  \n",
    "plt.show()  "
   ]
  },
  {
   "cell_type": "code",
   "execution_count": null,
   "id": "eb123e50",
   "metadata": {},
   "outputs": [],
   "source": [
    "print ksln"
   ]
  }
 ],
 "metadata": {
  "kernelspec": {
   "display_name": "Python 3 (ipykernel)",
   "language": "python",
   "name": "python3"
  },
  "language_info": {
   "codemirror_mode": {
    "name": "ipython",
    "version": 3
   },
   "file_extension": ".py",
   "mimetype": "text/x-python",
   "name": "python",
   "nbconvert_exporter": "python",
   "pygments_lexer": "ipython3",
   "version": "3.11.4"
  }
 },
 "nbformat": 4,
 "nbformat_minor": 5
}
