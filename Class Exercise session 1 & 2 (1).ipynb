{
 "cells": [
  {
   "cell_type": "code",
   "execution_count": 1,
   "id": "7a880c57",
   "metadata": {},
   "outputs": [
    {
     "name": "stdout",
     "output_type": "stream",
     "text": [
      "Hello world\n"
     ]
    }
   ],
   "source": [
    "# first.py\n",
    "print('Hello world')"
   ]
  },
  {
   "cell_type": "code",
   "execution_count": 10,
   "id": "1c9f994c",
   "metadata": {},
   "outputs": [
    {
     "name": "stdout",
     "output_type": "stream",
     "text": [
      "<class 'str'>\n",
      "<class 'list'>\n",
      "<class 'tuple'>\n",
      "<class 'int'>\n",
      "<class 'dict'>\n"
     ]
    }
   ],
   "source": [
    "# define data type\n",
    "a='ritesh'\n",
    "print(type(a))\n",
    "\n",
    "b=[1,2,3,4,5,6,10]\n",
    "print(type(b))\n",
    "\n",
    "c=1,2,3,45\n",
    "print(type(c))\n",
    "\n",
    "d=(123)\n",
    "print(type(d))\n",
    "\n",
    "e={'Name':'ritesh','Job':'student'}\n",
    "print(type(e))"
   ]
  },
  {
   "cell_type": "code",
   "execution_count": 1,
   "id": "0d410125",
   "metadata": {},
   "outputs": [
    {
     "name": "stdout",
     "output_type": "stream",
     "text": [
      "['Sudhanshu', 'Aman', 'Dipanshu', 'Vishal']\n",
      "Vishal\n",
      "['Aman', 'Dipanshu']\n",
      "['Aman', 'Dipanshu', 'Vishal']\n",
      "['Sudhanshu', 'Aman', 'Dipanshu']\n"
     ]
    }
   ],
   "source": [
    "### list in python\n",
    "my_list=['Sudhanshu','Aman','Dipanshu','Vishal']\n",
    "print(my_list)\n",
    "\n",
    "print(my_list[3])\n",
    "\n",
    "print(my_list[1:3])\n",
    "\n",
    "print(my_list[1:])\n",
    "\n",
    "print(my_list[:3])"
   ]
  },
  {
   "cell_type": "code",
   "execution_count": 24,
   "id": "bfddb282",
   "metadata": {},
   "outputs": [
    {
     "name": "stdout",
     "output_type": "stream",
     "text": [
      "['Rita', 'Sita', 'Geeta', 'Babita', 'Papita']\n",
      "['Rita', 'Sita', 'Geeta', 'Babita', 'Papita', 'Cheeta']\n"
     ]
    }
   ],
   "source": [
    "# using append method in list\n",
    "my_list=['Rita','Sita','Geeta','Babita']\n",
    "my_list.append('Papita')\n",
    "print(my_list)\n",
    "\n",
    "my_list.append('Cheeta')\n",
    "print(my_list)"
   ]
  },
  {
   "cell_type": "code",
   "execution_count": 26,
   "id": "cd38ee08",
   "metadata": {},
   "outputs": [
    {
     "name": "stdout",
     "output_type": "stream",
     "text": [
      "['Ram', 'Ramayan', 'Mahabharat', 'Shaktiman', 'Chandrakanta']\n",
      "['Ram', 'Ramayan', 'Mahabharat', 'Shaktiman', 'Chandrakanta', 'Junior G']\n"
     ]
    }
   ],
   "source": [
    "# using insert method in list\n",
    "my_list=['Ram','Ramayan','Mahabharat','Chandrakanta']\n",
    "my_list.insert(3,'Shaktiman')\n",
    "print(my_list)\n",
    "\n",
    "my_list.insert(5,'Junior G')\n",
    "print(my_list)"
   ]
  },
  {
   "cell_type": "code",
   "execution_count": 30,
   "id": "e823f7a3",
   "metadata": {},
   "outputs": [
    {
     "name": "stdout",
     "output_type": "stream",
     "text": [
      "['Hum', 'Dil', 'De', 'Chuke', 'Sanam', 'Rahna', 'Hain', 'Tere', 'Dil', 'main']\n",
      "['KK', 'SONU NIGAM', 'UDIT NARAYAN', 'KUMAR SANU', 'ARIJIT SINGH', 'SHREYA GHOSHAL', 'HIMESH RESHAMIYA']\n"
     ]
    }
   ],
   "source": [
    "#Use extend method\n",
    "my_list=['Hum','Dil','De','Chuke','Sanam']\n",
    "my_list2=['Rahna','Hain','Tere','Dil','main']\n",
    "my_list.extend(my_list2)\n",
    "print(my_list)\n",
    "\n",
    "my_list3=['KK','SONU NIGAM','UDIT NARAYAN','KUMAR SANU']\n",
    "my_list4=['ARIJIT SINGH','SHREYA GHOSHAL','HIMESH RESHAMIYA']\n",
    "my_list3.extend(my_list4)\n",
    "print(my_list3)"
   ]
  },
  {
   "cell_type": "code",
   "execution_count": 33,
   "id": "82709a4b",
   "metadata": {},
   "outputs": [
    {
     "name": "stdout",
     "output_type": "stream",
     "text": [
      "['MSD', 'VIRAT', 'HARDIK', 'ROHIT']\n",
      "['Aliya', 'Kareena', 'Aishwarya']\n"
     ]
    }
   ],
   "source": [
    "# Using pop method in list\n",
    "my_list=['MSD','VIRAT','HARDIK','ROHIT','IRFAN']\n",
    "my_list.pop()\n",
    "print(my_list)\n",
    "\n",
    "my_list1=['Aliya','Kareena','Aishwarya','Bipasa']\n",
    "my_list1.pop()\n",
    "print(my_list1)"
   ]
  },
  {
   "cell_type": "code",
   "execution_count": 12,
   "id": "4e94d692",
   "metadata": {},
   "outputs": [
    {
     "name": "stdout",
     "output_type": "stream",
     "text": [
      "['Koderma', 'Dhanbad', 'Bokaro', 'Ranchi University', 'Jhamshedpur', 'Goda']\n"
     ]
    }
   ],
   "source": [
    "my_list = ['Koderma', 'Dhanbad', 'Bokaro', 'Ranchi University', 'Jhamshedpur', 'Goda']\n",
    "\n",
    "# Attempt to remove 'Sasaram' if it exists\n",
    "if 'Sasaram' in my_list:\n",
    "    my_list.remove('Sasaram')\n",
    "\n",
    "# Attempt to remove 'Madhubani' if it exists\n",
    "if 'Madhubani' in my_list:\n",
    "    my_list.remove('Madhubani')\n",
    "\n",
    "# Attempt to remove 'Nalanda University' if it exists\n",
    "if 'Nalanda University' in my_list:\n",
    "    my_list.remove('Nalanda University')\n",
    "\n",
    "print(my_list)\n",
    "\n"
   ]
  },
  {
   "cell_type": "code",
   "execution_count": 48,
   "id": "56c248c4",
   "metadata": {},
   "outputs": [
    {
     "name": "stdout",
     "output_type": "stream",
     "text": [
      "[]\n"
     ]
    }
   ],
   "source": [
    "# Use clear method  in list\n",
    "my_list=['Ramu','Kaka','Sonu','Monu']\n",
    "my_list.clear()\n",
    "print(my_list)\n"
   ]
  },
  {
   "cell_type": "code",
   "execution_count": 59,
   "id": "e30f22ff",
   "metadata": {},
   "outputs": [
    {
     "name": "stdout",
     "output_type": "stream",
     "text": [
      "8\n"
     ]
    },
    {
     "data": {
      "text/plain": [
       "4"
      ]
     },
     "execution_count": 59,
     "metadata": {},
     "output_type": "execute_result"
    }
   ],
   "source": [
    "# Use Count method in list\n",
    "my_list=[1,2,3,4,4,4,4,5,5,5,7,8,9,7,6,6,7,5,4,3,3,3,3,3,3,3]\n",
    "my_list.count(5)\n",
    "my_list.count(3)\n",
    "a=my_list.count(3)\n",
    "print(a)\n",
    "my_list.count(5)"
   ]
  },
  {
   "cell_type": "code",
   "execution_count": 61,
   "id": "407291f1",
   "metadata": {},
   "outputs": [
    {
     "name": "stdout",
     "output_type": "stream",
     "text": [
      "['Radhe', 'Krishna', 'Site', 'Ram', 3, 2, 1]\n",
      "['AArjoo', 'baju', 'kaju', 'raju']\n"
     ]
    }
   ],
   "source": [
    "# USE reverse method in list\n",
    "my_list=[1,2,3,'Ram','Site','Krishna','Radhe']\n",
    "my_list.reverse()\n",
    "print(my_list)\n",
    "\n",
    "my_list=['raju','kaju','baju','AArjoo']\n",
    "my_list.reverse()\n",
    "print(my_list)"
   ]
  },
  {
   "cell_type": "code",
   "execution_count": 10,
   "id": "a9f11710",
   "metadata": {},
   "outputs": [
    {
     "name": "stdout",
     "output_type": "stream",
     "text": [
      "[-6, 5, 13, 100, 400, 500]\n",
      "['Aman', 'Dipanshu', 'Sudhanshu', 'Vishal']\n"
     ]
    }
   ],
   "source": [
    "# Using sort method in list\n",
    "my_list=[100,500,5,13,-6,400]\n",
    "my_list.sort()\n",
    "print(my_list)\n",
    "\n",
    "my_list1=['Dipanshu','Aman','Vishal','Sudhanshu']\n",
    "my_list1.sort()\n",
    "print(my_list1)"
   ]
  },
  {
   "cell_type": "code",
   "execution_count": 9,
   "id": "815ed995",
   "metadata": {},
   "outputs": [
    {
     "name": "stdout",
     "output_type": "stream",
     "text": [
      "{'Name': 'Dipanshu', 'Hobby': 'Trevelling', 'City': 'Ranchi'}\n",
      "Trevelling\n",
      "Dipanshu\n"
     ]
    }
   ],
   "source": [
    "# Dictionary\n",
    "my_dict={'Name':'Dipanshu','Hobby':'Trevelling','City':'Ranchi'}\n",
    "print(my_dict)\n",
    "\n",
    "print(my_dict['Hobby'])\n",
    "\n",
    "print(my_dict.get('Name'))"
   ]
  },
  {
   "cell_type": "code",
   "execution_count": 5,
   "id": "ac19967a",
   "metadata": {},
   "outputs": [
    {
     "name": "stdout",
     "output_type": "stream",
     "text": [
      "dict_keys(['Name', 'Hobby', 'Game'])\n"
     ]
    }
   ],
   "source": [
    "# Method of Dictionary\n",
    "# keys\n",
    "my_dict={'Name':'Dipanshu','Hobby':'Gameing','Game':'Assassin Creed'}\n",
    "keys=my_dict.keys()\n",
    "print(keys)"
   ]
  },
  {
   "cell_type": "code",
   "execution_count": 6,
   "id": "106701a5",
   "metadata": {},
   "outputs": [
    {
     "name": "stdout",
     "output_type": "stream",
     "text": [
      "dict_values(['Dipanshu', 'Gameing', 'Assassin Creed'])\n"
     ]
    }
   ],
   "source": [
    "# values\n",
    "values=my_dict.values()\n",
    "print(values)"
   ]
  },
  {
   "cell_type": "code",
   "execution_count": 7,
   "id": "92566654",
   "metadata": {},
   "outputs": [
    {
     "name": "stdout",
     "output_type": "stream",
     "text": [
      "dict_items([('Name', 'Dipanshu'), ('Hobby', 'Gameing'), ('Game', 'Assassin Creed')])\n"
     ]
    }
   ],
   "source": [
    "#items\n",
    "items=my_dict.items()\n",
    "print(items)"
   ]
  },
  {
   "cell_type": "code",
   "execution_count": 8,
   "id": "2f0fc754",
   "metadata": {},
   "outputs": [
    {
     "name": "stdout",
     "output_type": "stream",
     "text": [
      "a is greater than 3\n"
     ]
    }
   ],
   "source": [
    "# CONDITIONAL STATEMENT if condition\n",
    "a=5\n",
    "if a>3:\n",
    "    print('a is greater than 3')"
   ]
  },
  {
   "cell_type": "code",
   "execution_count": 76,
   "id": "023ad599",
   "metadata": {},
   "outputs": [
    {
     "name": "stdout",
     "output_type": "stream",
     "text": [
      "c is the biggest number\n"
     ]
    }
   ],
   "source": [
    "# Conditional statement if,elif condition\n",
    "a=14\n",
    "b=25\n",
    "c=38\n",
    "if a>b and a>c:\n",
    "    print('a is biggest number')\n",
    "elif b>a and b>c:\n",
    "    print('b is biggest number')\n",
    "else:\n",
    "    print('c is the biggest number')"
   ]
  },
  {
   "cell_type": "code",
   "execution_count": 4,
   "id": "a01841b5",
   "metadata": {},
   "outputs": [
    {
     "name": "stdout",
     "output_type": "stream",
     "text": [
      "Dipanshu\n",
      "Shubham\n",
      "Aman\n",
      "Vishal\n",
      "Sudhanshu\n"
     ]
    }
   ],
   "source": [
    "# For loop in python\n",
    "my_list=['Dipanshu','Shubham','Aman','Vishal','Sudhanshu']\n",
    "for a in my_list:\n",
    "    print(a)"
   ]
  },
  {
   "cell_type": "code",
   "execution_count": 81,
   "id": "83f1f99b",
   "metadata": {},
   "outputs": [
    {
     "name": "stdout",
     "output_type": "stream",
     "text": [
      "47\n",
      "10\n",
      "8\n",
      "5\n",
      "23\n"
     ]
    }
   ],
   "source": [
    "# For loop with if condition\n",
    "my_list=[1,2,3,47,10,8,5,23]\n",
    "for a in my_list:\n",
    "    if a>=5:\n",
    "        print(a)"
   ]
  },
  {
   "cell_type": "code",
   "execution_count": 83,
   "id": "988ceb40",
   "metadata": {},
   "outputs": [
    {
     "name": "stdout",
     "output_type": "stream",
     "text": [
      "4\n",
      "10\n",
      "16\n"
     ]
    }
   ],
   "source": [
    "# tuple without unpacking\n",
    "my_list=[(2,4,6),(8,10,12),(14,16,20)]\n",
    "for a in my_list:\n",
    "    print(a[1])"
   ]
  },
  {
   "cell_type": "code",
   "execution_count": 84,
   "id": "082e3c07",
   "metadata": {},
   "outputs": [
    {
     "name": "stdout",
     "output_type": "stream",
     "text": [
      "2\n",
      "8\n",
      "14\n"
     ]
    }
   ],
   "source": [
    "# tuple unpacking\n",
    "for a,b,c in my_list:\n",
    "    print(a)"
   ]
  },
  {
   "cell_type": "code",
   "execution_count": 85,
   "id": "4f2b9a8c",
   "metadata": {},
   "outputs": [
    {
     "name": "stdout",
     "output_type": "stream",
     "text": [
      "3\n",
      "4\n",
      "5\n",
      "6\n",
      "7\n",
      "8\n",
      "9\n"
     ]
    }
   ],
   "source": [
    "# while loop\n",
    "my_list=[2,3,4,5,6,9,10]\n",
    "i=3\n",
    "while i<10:\n",
    "    print(i)\n",
    "    i=i+1"
   ]
  },
  {
   "cell_type": "code",
   "execution_count": 124,
   "id": "1a625bc4",
   "metadata": {},
   "outputs": [
    {
     "name": "stdout",
     "output_type": "stream",
     "text": [
      "3\n",
      "4\n",
      "5\n",
      "6\n",
      "7\n",
      "8\n"
     ]
    }
   ],
   "source": [
    "# while loop using break\n",
    "my_list=[2,3,4,5,6,9,10]\n",
    "i=3\n",
    "while i<10:\n",
    "    if i==9:\n",
    "        break\n",
    "    print(i)\n",
    "    i=i+1\n"
   ]
  },
  {
   "cell_type": "code",
   "execution_count": 1,
   "id": "43c7a259",
   "metadata": {},
   "outputs": [
    {
     "name": "stdout",
     "output_type": "stream",
     "text": [
      "0\n",
      "1\n",
      "3\n",
      "4\n"
     ]
    }
   ],
   "source": [
    "#  using continue in while\n",
    "\n",
    "for temp in range(5):\n",
    "    if temp==2:\n",
    "        continue\n",
    "    print(temp)\n",
    "     \n",
    "    \n"
   ]
  },
  {
   "cell_type": "code",
   "execution_count": 3,
   "id": "d0a9387f",
   "metadata": {},
   "outputs": [
    {
     "name": "stdout",
     "output_type": "stream",
     "text": [
      "Jharkhand Ranchi\n",
      "--------------------\n",
      "from Jharkhand Ranchi\n",
      "--------------------\n"
     ]
    }
   ],
   "source": [
    "def seperator():\n",
    "    print(\"--------------------\")\n",
    "    \n",
    "print('Jharkhand Ranchi')\n",
    "seperator()\n",
    "print(\"from Jharkhand Ranchi\")\n",
    "seperator()\n",
    "\n",
    "    "
   ]
  },
  {
   "cell_type": "code",
   "execution_count": null,
   "id": "c1c46b9c",
   "metadata": {},
   "outputs": [],
   "source": []
  }
 ],
 "metadata": {
  "kernelspec": {
   "display_name": "Python 3 (ipykernel)",
   "language": "python",
   "name": "python3"
  },
  "language_info": {
   "codemirror_mode": {
    "name": "ipython",
    "version": 3
   },
   "file_extension": ".py",
   "mimetype": "text/x-python",
   "name": "python",
   "nbconvert_exporter": "python",
   "pygments_lexer": "ipython3",
   "version": "3.11.4"
  }
 },
 "nbformat": 4,
 "nbformat_minor": 5
}
